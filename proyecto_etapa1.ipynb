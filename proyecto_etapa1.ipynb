{
  "nbformat": 4,
  "nbformat_minor": 0,
  "metadata": {
    "colab": {
      "provenance": [],
      "toc_visible": true
    },
    "kernelspec": {
      "name": "python3",
      "display_name": "Python 3"
    },
    "language_info": {
      "name": "python"
    }
  },
  "cells": [
    {
      "cell_type": "markdown",
      "source": [
        "# Proyecto 1- etapa1: Analisis de ODS"
      ],
      "metadata": {
        "id": "lwokwN9sENuM"
      }
    },
    {
      "cell_type": "markdown",
      "source": [
        "### Importacion de librerias necesarias"
      ],
      "metadata": {
        "id": "YYIybtssEXi6"
      }
    },
    {
      "cell_type": "code",
      "execution_count": 81,
      "metadata": {
        "id": "YpHR80Am0DId"
      },
      "outputs": [],
      "source": [
        "import string\n",
        "import re\n",
        "import unicodedata\n",
        "from joblib import dump, load\n",
        "\n",
        "import numpy as np\n",
        "import pandas as pd\n",
        "import matplotlib.pyplot as plt\n",
        "\n",
        "import nltk\n",
        "from nltk.corpus import stopwords\n",
        "from nltk.tokenize import word_tokenize\n",
        "from nltk.stem import SnowballStemmer\n",
        "\n",
        "from sklearn.model_selection import train_test_split\n",
        "from sklearn.feature_extraction.text import CountVectorizer, TfidfVectorizer, HashingVectorizer\n",
        "from sklearn.inspection import permutation_importance\n",
        "\n",
        "from sklearn.ensemble import GradientBoostingClassifier\n",
        "from sklearn.ensemble import RandomForestClassifier\n",
        "from sklearn.neighbors import KNeighborsClassifier\n",
        "from sklearn.naive_bayes import MultinomialNB\n",
        "from sklearn.ensemble import GradientBoostingClassifier\n",
        "\n",
        "from sklearn.pipeline import Pipeline\n",
        "from sklearn.model_selection import GridSearchCV\n",
        "\n",
        "from sklearn.metrics import ConfusionMatrixDisplay, precision_score, recall_score, f1_score"
      ]
    },
    {
      "cell_type": "code",
      "source": [
        "pd.set_option('display.max_colwidth', None)"
      ],
      "metadata": {
        "id": "lLlUyzWAELZ_"
      },
      "execution_count": 82,
      "outputs": []
    },
    {
      "cell_type": "code",
      "source": [
        "# Descarga de las stopwords\n",
        "nltk.download('stopwords')\n",
        "stop_words = set(stopwords.words('spanish'))\n",
        "nltk.download('punkt')"
      ],
      "metadata": {
        "colab": {
          "base_uri": "https://localhost:8080/"
        },
        "id": "dZ7Bm-dnEbNM",
        "outputId": "2e6c94de-1aff-4557-8279-c5dc0000dc81"
      },
      "execution_count": 83,
      "outputs": [
        {
          "output_type": "stream",
          "name": "stderr",
          "text": [
            "[nltk_data] Downloading package stopwords to /root/nltk_data...\n",
            "[nltk_data]   Package stopwords is already up-to-date!\n",
            "[nltk_data] Downloading package punkt to /root/nltk_data...\n",
            "[nltk_data]   Package punkt is already up-to-date!\n"
          ]
        },
        {
          "output_type": "execute_result",
          "data": {
            "text/plain": [
              "True"
            ]
          },
          "metadata": {},
          "execution_count": 83
        }
      ]
    },
    {
      "cell_type": "code",
      "source": [
        "# Función para tokenizar los textos\n",
        "def tokenizer(text):\n",
        "    return word_tokenize(text)"
      ],
      "metadata": {
        "id": "s78ehcwYEn9L"
      },
      "execution_count": 84,
      "outputs": []
    },
    {
      "cell_type": "code",
      "source": [
        "stop_words"
      ],
      "metadata": {
        "colab": {
          "base_uri": "https://localhost:8080/"
        },
        "id": "TVhQLDmuFhsp",
        "outputId": "cec1f133-b8f9-4ecc-e6cc-522987d7452a"
      },
      "execution_count": 85,
      "outputs": [
        {
          "output_type": "execute_result",
          "data": {
            "text/plain": [
              "{'a',\n",
              " 'al',\n",
              " 'algo',\n",
              " 'algunas',\n",
              " 'algunos',\n",
              " 'ante',\n",
              " 'antes',\n",
              " 'como',\n",
              " 'con',\n",
              " 'contra',\n",
              " 'cual',\n",
              " 'cuando',\n",
              " 'de',\n",
              " 'del',\n",
              " 'desde',\n",
              " 'donde',\n",
              " 'durante',\n",
              " 'e',\n",
              " 'el',\n",
              " 'ella',\n",
              " 'ellas',\n",
              " 'ellos',\n",
              " 'en',\n",
              " 'entre',\n",
              " 'era',\n",
              " 'erais',\n",
              " 'eran',\n",
              " 'eras',\n",
              " 'eres',\n",
              " 'es',\n",
              " 'esa',\n",
              " 'esas',\n",
              " 'ese',\n",
              " 'eso',\n",
              " 'esos',\n",
              " 'esta',\n",
              " 'estaba',\n",
              " 'estabais',\n",
              " 'estaban',\n",
              " 'estabas',\n",
              " 'estad',\n",
              " 'estada',\n",
              " 'estadas',\n",
              " 'estado',\n",
              " 'estados',\n",
              " 'estamos',\n",
              " 'estando',\n",
              " 'estar',\n",
              " 'estaremos',\n",
              " 'estará',\n",
              " 'estarán',\n",
              " 'estarás',\n",
              " 'estaré',\n",
              " 'estaréis',\n",
              " 'estaría',\n",
              " 'estaríais',\n",
              " 'estaríamos',\n",
              " 'estarían',\n",
              " 'estarías',\n",
              " 'estas',\n",
              " 'este',\n",
              " 'estemos',\n",
              " 'esto',\n",
              " 'estos',\n",
              " 'estoy',\n",
              " 'estuve',\n",
              " 'estuviera',\n",
              " 'estuvierais',\n",
              " 'estuvieran',\n",
              " 'estuvieras',\n",
              " 'estuvieron',\n",
              " 'estuviese',\n",
              " 'estuvieseis',\n",
              " 'estuviesen',\n",
              " 'estuvieses',\n",
              " 'estuvimos',\n",
              " 'estuviste',\n",
              " 'estuvisteis',\n",
              " 'estuviéramos',\n",
              " 'estuviésemos',\n",
              " 'estuvo',\n",
              " 'está',\n",
              " 'estábamos',\n",
              " 'estáis',\n",
              " 'están',\n",
              " 'estás',\n",
              " 'esté',\n",
              " 'estéis',\n",
              " 'estén',\n",
              " 'estés',\n",
              " 'fue',\n",
              " 'fuera',\n",
              " 'fuerais',\n",
              " 'fueran',\n",
              " 'fueras',\n",
              " 'fueron',\n",
              " 'fuese',\n",
              " 'fueseis',\n",
              " 'fuesen',\n",
              " 'fueses',\n",
              " 'fui',\n",
              " 'fuimos',\n",
              " 'fuiste',\n",
              " 'fuisteis',\n",
              " 'fuéramos',\n",
              " 'fuésemos',\n",
              " 'ha',\n",
              " 'habida',\n",
              " 'habidas',\n",
              " 'habido',\n",
              " 'habidos',\n",
              " 'habiendo',\n",
              " 'habremos',\n",
              " 'habrá',\n",
              " 'habrán',\n",
              " 'habrás',\n",
              " 'habré',\n",
              " 'habréis',\n",
              " 'habría',\n",
              " 'habríais',\n",
              " 'habríamos',\n",
              " 'habrían',\n",
              " 'habrías',\n",
              " 'habéis',\n",
              " 'había',\n",
              " 'habíais',\n",
              " 'habíamos',\n",
              " 'habían',\n",
              " 'habías',\n",
              " 'han',\n",
              " 'has',\n",
              " 'hasta',\n",
              " 'hay',\n",
              " 'haya',\n",
              " 'hayamos',\n",
              " 'hayan',\n",
              " 'hayas',\n",
              " 'hayáis',\n",
              " 'he',\n",
              " 'hemos',\n",
              " 'hube',\n",
              " 'hubiera',\n",
              " 'hubierais',\n",
              " 'hubieran',\n",
              " 'hubieras',\n",
              " 'hubieron',\n",
              " 'hubiese',\n",
              " 'hubieseis',\n",
              " 'hubiesen',\n",
              " 'hubieses',\n",
              " 'hubimos',\n",
              " 'hubiste',\n",
              " 'hubisteis',\n",
              " 'hubiéramos',\n",
              " 'hubiésemos',\n",
              " 'hubo',\n",
              " 'la',\n",
              " 'las',\n",
              " 'le',\n",
              " 'les',\n",
              " 'lo',\n",
              " 'los',\n",
              " 'me',\n",
              " 'mi',\n",
              " 'mis',\n",
              " 'mucho',\n",
              " 'muchos',\n",
              " 'muy',\n",
              " 'más',\n",
              " 'mí',\n",
              " 'mía',\n",
              " 'mías',\n",
              " 'mío',\n",
              " 'míos',\n",
              " 'nada',\n",
              " 'ni',\n",
              " 'no',\n",
              " 'nos',\n",
              " 'nosotras',\n",
              " 'nosotros',\n",
              " 'nuestra',\n",
              " 'nuestras',\n",
              " 'nuestro',\n",
              " 'nuestros',\n",
              " 'o',\n",
              " 'os',\n",
              " 'otra',\n",
              " 'otras',\n",
              " 'otro',\n",
              " 'otros',\n",
              " 'para',\n",
              " 'pero',\n",
              " 'poco',\n",
              " 'por',\n",
              " 'porque',\n",
              " 'que',\n",
              " 'quien',\n",
              " 'quienes',\n",
              " 'qué',\n",
              " 'se',\n",
              " 'sea',\n",
              " 'seamos',\n",
              " 'sean',\n",
              " 'seas',\n",
              " 'sentid',\n",
              " 'sentida',\n",
              " 'sentidas',\n",
              " 'sentido',\n",
              " 'sentidos',\n",
              " 'seremos',\n",
              " 'será',\n",
              " 'serán',\n",
              " 'serás',\n",
              " 'seré',\n",
              " 'seréis',\n",
              " 'sería',\n",
              " 'seríais',\n",
              " 'seríamos',\n",
              " 'serían',\n",
              " 'serías',\n",
              " 'seáis',\n",
              " 'siente',\n",
              " 'sin',\n",
              " 'sintiendo',\n",
              " 'sobre',\n",
              " 'sois',\n",
              " 'somos',\n",
              " 'son',\n",
              " 'soy',\n",
              " 'su',\n",
              " 'sus',\n",
              " 'suya',\n",
              " 'suyas',\n",
              " 'suyo',\n",
              " 'suyos',\n",
              " 'sí',\n",
              " 'también',\n",
              " 'tanto',\n",
              " 'te',\n",
              " 'tendremos',\n",
              " 'tendrá',\n",
              " 'tendrán',\n",
              " 'tendrás',\n",
              " 'tendré',\n",
              " 'tendréis',\n",
              " 'tendría',\n",
              " 'tendríais',\n",
              " 'tendríamos',\n",
              " 'tendrían',\n",
              " 'tendrías',\n",
              " 'tened',\n",
              " 'tenemos',\n",
              " 'tenga',\n",
              " 'tengamos',\n",
              " 'tengan',\n",
              " 'tengas',\n",
              " 'tengo',\n",
              " 'tengáis',\n",
              " 'tenida',\n",
              " 'tenidas',\n",
              " 'tenido',\n",
              " 'tenidos',\n",
              " 'teniendo',\n",
              " 'tenéis',\n",
              " 'tenía',\n",
              " 'teníais',\n",
              " 'teníamos',\n",
              " 'tenían',\n",
              " 'tenías',\n",
              " 'ti',\n",
              " 'tiene',\n",
              " 'tienen',\n",
              " 'tienes',\n",
              " 'todo',\n",
              " 'todos',\n",
              " 'tu',\n",
              " 'tus',\n",
              " 'tuve',\n",
              " 'tuviera',\n",
              " 'tuvierais',\n",
              " 'tuvieran',\n",
              " 'tuvieras',\n",
              " 'tuvieron',\n",
              " 'tuviese',\n",
              " 'tuvieseis',\n",
              " 'tuviesen',\n",
              " 'tuvieses',\n",
              " 'tuvimos',\n",
              " 'tuviste',\n",
              " 'tuvisteis',\n",
              " 'tuviéramos',\n",
              " 'tuviésemos',\n",
              " 'tuvo',\n",
              " 'tuya',\n",
              " 'tuyas',\n",
              " 'tuyo',\n",
              " 'tuyos',\n",
              " 'tú',\n",
              " 'un',\n",
              " 'una',\n",
              " 'uno',\n",
              " 'unos',\n",
              " 'vosotras',\n",
              " 'vosotros',\n",
              " 'vuestra',\n",
              " 'vuestras',\n",
              " 'vuestro',\n",
              " 'vuestros',\n",
              " 'y',\n",
              " 'ya',\n",
              " 'yo',\n",
              " 'él',\n",
              " 'éramos'}"
            ]
          },
          "metadata": {},
          "execution_count": 85
        }
      ]
    },
    {
      "cell_type": "markdown",
      "source": [
        "### Preparación y carga de datos"
      ],
      "metadata": {
        "id": "3s8GNdbFF1WL"
      }
    },
    {
      "cell_type": "code",
      "source": [
        "df = pd.read_csv(\"./cat_6716.csv\")\n",
        "df.to_csv('./cat_6716.csv', encoding='utf-8', index=False)\n"
      ],
      "metadata": {
        "id": "r7QIMHVFF31c"
      },
      "execution_count": 86,
      "outputs": []
    },
    {
      "cell_type": "code",
      "source": [
        "df.shape"
      ],
      "metadata": {
        "colab": {
          "base_uri": "https://localhost:8080/"
        },
        "id": "qYsxcfRfHXDc",
        "outputId": "37cc63f4-b008-46f0-97ef-6c5313299a9a"
      },
      "execution_count": 87,
      "outputs": [
        {
          "output_type": "execute_result",
          "data": {
            "text/plain": [
              "(3000, 2)"
            ]
          },
          "metadata": {},
          "execution_count": 87
        }
      ]
    },
    {
      "cell_type": "code",
      "source": [
        "df.sample(6)"
      ],
      "metadata": {
        "colab": {
          "base_uri": "https://localhost:8080/",
          "height": 810
        },
        "id": "F8wmRM5kHbFa",
        "outputId": "42622713-33e4-4d03-866c-0698a7270a1a"
      },
      "execution_count": 88,
      "outputs": [
        {
          "output_type": "execute_result",
          "data": {
            "text/plain": [
              "                                                                                                                                                                                                                                                                                                                                                                                                                                                                                                                                                                                                                                                                                                                                                                                                                                                                                                                                                                                                                                                                                                                                                                                              Textos_espanol  \\\n",
              "1954                                                                                                                                                                                                                                                                                                                                                                                                                                                                                                                          Pueden ser significativos, especialmente si se deben conectar recursos distantes, como puede ser el caso de la energía eólica marina, si los factores de carga son bajos o si la tecnología tiene requisitos de conexión más estrictos que para la energía nuclear. Los costos de conexión a veces se integran dentro de los costos del sistema (NEA, 2012), pero con mayor frecuencia no se consideran costos del sistema y se incluyen implícitamente en el LCOE como costos a nivel de planta. La dificultad en esta evaluación es que los costos de conexión a veces corren a cargo del desarrollador de la planta ya veces los paga el operador de la red de transmisión.   \n",
              "1786                                                                                                                                                                                                                                                                                                                                                                                                 Con este fin, las exportaciones de electricidad siguieron aumentando de forma constante en los últimos cinco años, y en 2014 se produjo un notable incremento del 62%. No obstante, las exportaciones reales de electricidad alcanzaron los 1.552 millones de kWh en 2014, lo que representa solo el 22% del potencial de exportación de electricidad previsto en el Programa. Esto puede indicar que la metodología utilizada para la previsión de la exportación de electricidad era bastante optimista y no se ajustaba plenamente a la realidad actual del potencial de exportación de Tayikistán. Se creÃ³ un nuevo Ministerio de EnergÃa y Recursos HÃdricos sobre la base del antiguo Ministerio de EnergÃa e Industria y el antiguo Ministerio de RecuperaciÃ³n de Tierras y Recursos HÃdricos.   \n",
              "156                                                                                                                                                                                                                                                                                                                                                                                                                                                                                                                                                                                                                                                                                                                                                                                       El evento nacional, â€œUna gota de agua es un grano de oroâ€ , es ampliamente celebrado todos los aÃ±os a principios de abril. Existe un entendimiento público generalizado de que el agua debe administrarse económicamente de manera sólida. Durante la década pasada quedó claro que habría escasez de agua si el volumen de agua en el río Amu Darya disminuyera debido al método tradicional de uso del agua.   \n",
              "2747                                                                                                                                                                                                                                                                                                                                                                                                      Este trabajo es un capítulo de un próximo libro sobre The Essentials of International Criminal Law que será publicado por Aspen Publishers como parte de su serie Essentials. En este capítulo se analiza el controvertido concepto de terrorismo según el derecho internacional, centrándose en los esfuerzos por criminalizar el fenómeno. En particular, analiza los principales obstáculos para lograr una definición ómnibus del delito con especial énfasis en la intersección de las prohibiciones contra el terrorismo y el derecho internacional humanitario. Capítulos adicionales en el texto abordan la historia de ICL, las fuentes de ICL, los principales crímenes y defensas internacionales, y el razonamiento y la retórica de ICL. Se espera su publicación en octubre de 2008.   \n",
              "1059                                                                                                                                                                                                                                                                                                                                                                                                                                                                                                                                                                                                                                                Si el aumento de CAPEX lleva a reducir los costos de combustible y tal vez otros OPEX, se debe encontrar un acuerdo entre el propietario y el fletador. Por ejemplo, la producción que va desde unas pocas toneladas al día hasta millones de toneladas al año, el almacenamiento en tanques atmosféricos o en tanques presurizados, el almacenamiento de menos de 30 m3 hasta el almacenamiento de varios cientos de miles de m3, y el transporte por mar, ferrocarril o carretera. La figura 12 proporciona una descripción general de la complejidad.   \n",
              "2718  Introducción: Los tomadores de decisiones en políticas de salud están lidiando con decisiones cada vez más complejas y éticamente controvertidas en un momento en que los ciudadanos exigen una mayor participación en estos procesos de decisión. Objetivos: Evaluar y revisar un conjunto de principios rectores para el diseño de procesos de participación pública generados a partir de una síntesis de los marcos de diseño y evaluación de la participación pública que se pueden utilizar para informar el diseño y la evaluación de futuros procesos de participación pública en el sector de la salud. Métodos: Seis grupos focales realizados en cinco provincias canadienses integrados por ciudadanos con considerable experiencia en procesos de participación pública. Resultados y discusión: Nuestros hallazgos sugieren que los ciudadanos participantes son muy críticos y exigentes con respecto a sus experiencias de participación pública. Sin embargo, son optimistas y están decididos a contribuir de manera significativa a los futuros procesos de política pública. Tienen claro dónde se necesitan mejoras y dan la máxima prioridad a la información que se comparte...   \n",
              "\n",
              "      sdg  \n",
              "1954    7  \n",
              "1786    7  \n",
              "156     6  \n",
              "2747   16  \n",
              "1059    7  \n",
              "2718   16  "
            ],
            "text/html": [
              "\n",
              "  <div id=\"df-a81b34e6-c327-46c1-811c-83806071558f\" class=\"colab-df-container\">\n",
              "    <div>\n",
              "<style scoped>\n",
              "    .dataframe tbody tr th:only-of-type {\n",
              "        vertical-align: middle;\n",
              "    }\n",
              "\n",
              "    .dataframe tbody tr th {\n",
              "        vertical-align: top;\n",
              "    }\n",
              "\n",
              "    .dataframe thead th {\n",
              "        text-align: right;\n",
              "    }\n",
              "</style>\n",
              "<table border=\"1\" class=\"dataframe\">\n",
              "  <thead>\n",
              "    <tr style=\"text-align: right;\">\n",
              "      <th></th>\n",
              "      <th>Textos_espanol</th>\n",
              "      <th>sdg</th>\n",
              "    </tr>\n",
              "  </thead>\n",
              "  <tbody>\n",
              "    <tr>\n",
              "      <th>1954</th>\n",
              "      <td>Pueden ser significativos, especialmente si se deben conectar recursos distantes, como puede ser el caso de la energía eólica marina, si los factores de carga son bajos o si la tecnología tiene requisitos de conexión más estrictos que para la energía nuclear. Los costos de conexión a veces se integran dentro de los costos del sistema (NEA, 2012), pero con mayor frecuencia no se consideran costos del sistema y se incluyen implícitamente en el LCOE como costos a nivel de planta. La dificultad en esta evaluación es que los costos de conexión a veces corren a cargo del desarrollador de la planta ya veces los paga el operador de la red de transmisión.</td>\n",
              "      <td>7</td>\n",
              "    </tr>\n",
              "    <tr>\n",
              "      <th>1786</th>\n",
              "      <td>Con este fin, las exportaciones de electricidad siguieron aumentando de forma constante en los últimos cinco años, y en 2014 se produjo un notable incremento del 62%. No obstante, las exportaciones reales de electricidad alcanzaron los 1.552 millones de kWh en 2014, lo que representa solo el 22% del potencial de exportación de electricidad previsto en el Programa. Esto puede indicar que la metodología utilizada para la previsión de la exportación de electricidad era bastante optimista y no se ajustaba plenamente a la realidad actual del potencial de exportación de Tayikistán. Se creÃ³ un nuevo Ministerio de EnergÃa y Recursos HÃdricos sobre la base del antiguo Ministerio de EnergÃa e Industria y el antiguo Ministerio de RecuperaciÃ³n de Tierras y Recursos HÃdricos.</td>\n",
              "      <td>7</td>\n",
              "    </tr>\n",
              "    <tr>\n",
              "      <th>156</th>\n",
              "      <td>El evento nacional, â€œUna gota de agua es un grano de oroâ€ , es ampliamente celebrado todos los aÃ±os a principios de abril. Existe un entendimiento público generalizado de que el agua debe administrarse económicamente de manera sólida. Durante la década pasada quedó claro que habría escasez de agua si el volumen de agua en el río Amu Darya disminuyera debido al método tradicional de uso del agua.</td>\n",
              "      <td>6</td>\n",
              "    </tr>\n",
              "    <tr>\n",
              "      <th>2747</th>\n",
              "      <td>Este trabajo es un capítulo de un próximo libro sobre The Essentials of International Criminal Law que será publicado por Aspen Publishers como parte de su serie Essentials. En este capítulo se analiza el controvertido concepto de terrorismo según el derecho internacional, centrándose en los esfuerzos por criminalizar el fenómeno. En particular, analiza los principales obstáculos para lograr una definición ómnibus del delito con especial énfasis en la intersección de las prohibiciones contra el terrorismo y el derecho internacional humanitario. Capítulos adicionales en el texto abordan la historia de ICL, las fuentes de ICL, los principales crímenes y defensas internacionales, y el razonamiento y la retórica de ICL. Se espera su publicación en octubre de 2008.</td>\n",
              "      <td>16</td>\n",
              "    </tr>\n",
              "    <tr>\n",
              "      <th>1059</th>\n",
              "      <td>Si el aumento de CAPEX lleva a reducir los costos de combustible y tal vez otros OPEX, se debe encontrar un acuerdo entre el propietario y el fletador. Por ejemplo, la producción que va desde unas pocas toneladas al día hasta millones de toneladas al año, el almacenamiento en tanques atmosféricos o en tanques presurizados, el almacenamiento de menos de 30 m3 hasta el almacenamiento de varios cientos de miles de m3, y el transporte por mar, ferrocarril o carretera. La figura 12 proporciona una descripción general de la complejidad.</td>\n",
              "      <td>7</td>\n",
              "    </tr>\n",
              "    <tr>\n",
              "      <th>2718</th>\n",
              "      <td>Introducción: Los tomadores de decisiones en políticas de salud están lidiando con decisiones cada vez más complejas y éticamente controvertidas en un momento en que los ciudadanos exigen una mayor participación en estos procesos de decisión. Objetivos: Evaluar y revisar un conjunto de principios rectores para el diseño de procesos de participación pública generados a partir de una síntesis de los marcos de diseño y evaluación de la participación pública que se pueden utilizar para informar el diseño y la evaluación de futuros procesos de participación pública en el sector de la salud. Métodos: Seis grupos focales realizados en cinco provincias canadienses integrados por ciudadanos con considerable experiencia en procesos de participación pública. Resultados y discusión: Nuestros hallazgos sugieren que los ciudadanos participantes son muy críticos y exigentes con respecto a sus experiencias de participación pública. Sin embargo, son optimistas y están decididos a contribuir de manera significativa a los futuros procesos de política pública. Tienen claro dónde se necesitan mejoras y dan la máxima prioridad a la información que se comparte...</td>\n",
              "      <td>16</td>\n",
              "    </tr>\n",
              "  </tbody>\n",
              "</table>\n",
              "</div>\n",
              "    <div class=\"colab-df-buttons\">\n",
              "\n",
              "  <div class=\"colab-df-container\">\n",
              "    <button class=\"colab-df-convert\" onclick=\"convertToInteractive('df-a81b34e6-c327-46c1-811c-83806071558f')\"\n",
              "            title=\"Convert this dataframe to an interactive table.\"\n",
              "            style=\"display:none;\">\n",
              "\n",
              "  <svg xmlns=\"http://www.w3.org/2000/svg\" height=\"24px\" viewBox=\"0 -960 960 960\">\n",
              "    <path d=\"M120-120v-720h720v720H120Zm60-500h600v-160H180v160Zm220 220h160v-160H400v160Zm0 220h160v-160H400v160ZM180-400h160v-160H180v160Zm440 0h160v-160H620v160ZM180-180h160v-160H180v160Zm440 0h160v-160H620v160Z\"/>\n",
              "  </svg>\n",
              "    </button>\n",
              "\n",
              "  <style>\n",
              "    .colab-df-container {\n",
              "      display:flex;\n",
              "      gap: 12px;\n",
              "    }\n",
              "\n",
              "    .colab-df-convert {\n",
              "      background-color: #E8F0FE;\n",
              "      border: none;\n",
              "      border-radius: 50%;\n",
              "      cursor: pointer;\n",
              "      display: none;\n",
              "      fill: #1967D2;\n",
              "      height: 32px;\n",
              "      padding: 0 0 0 0;\n",
              "      width: 32px;\n",
              "    }\n",
              "\n",
              "    .colab-df-convert:hover {\n",
              "      background-color: #E2EBFA;\n",
              "      box-shadow: 0px 1px 2px rgba(60, 64, 67, 0.3), 0px 1px 3px 1px rgba(60, 64, 67, 0.15);\n",
              "      fill: #174EA6;\n",
              "    }\n",
              "\n",
              "    .colab-df-buttons div {\n",
              "      margin-bottom: 4px;\n",
              "    }\n",
              "\n",
              "    [theme=dark] .colab-df-convert {\n",
              "      background-color: #3B4455;\n",
              "      fill: #D2E3FC;\n",
              "    }\n",
              "\n",
              "    [theme=dark] .colab-df-convert:hover {\n",
              "      background-color: #434B5C;\n",
              "      box-shadow: 0px 1px 3px 1px rgba(0, 0, 0, 0.15);\n",
              "      filter: drop-shadow(0px 1px 2px rgba(0, 0, 0, 0.3));\n",
              "      fill: #FFFFFF;\n",
              "    }\n",
              "  </style>\n",
              "\n",
              "    <script>\n",
              "      const buttonEl =\n",
              "        document.querySelector('#df-a81b34e6-c327-46c1-811c-83806071558f button.colab-df-convert');\n",
              "      buttonEl.style.display =\n",
              "        google.colab.kernel.accessAllowed ? 'block' : 'none';\n",
              "\n",
              "      async function convertToInteractive(key) {\n",
              "        const element = document.querySelector('#df-a81b34e6-c327-46c1-811c-83806071558f');\n",
              "        const dataTable =\n",
              "          await google.colab.kernel.invokeFunction('convertToInteractive',\n",
              "                                                    [key], {});\n",
              "        if (!dataTable) return;\n",
              "\n",
              "        const docLinkHtml = 'Like what you see? Visit the ' +\n",
              "          '<a target=\"_blank\" href=https://colab.research.google.com/notebooks/data_table.ipynb>data table notebook</a>'\n",
              "          + ' to learn more about interactive tables.';\n",
              "        element.innerHTML = '';\n",
              "        dataTable['output_type'] = 'display_data';\n",
              "        await google.colab.output.renderOutput(dataTable, element);\n",
              "        const docLink = document.createElement('div');\n",
              "        docLink.innerHTML = docLinkHtml;\n",
              "        element.appendChild(docLink);\n",
              "      }\n",
              "    </script>\n",
              "  </div>\n",
              "\n",
              "\n",
              "<div id=\"df-622921ae-4c0d-4ad2-90a3-42d04ed9ef19\">\n",
              "  <button class=\"colab-df-quickchart\" onclick=\"quickchart('df-622921ae-4c0d-4ad2-90a3-42d04ed9ef19')\"\n",
              "            title=\"Suggest charts.\"\n",
              "            style=\"display:none;\">\n",
              "\n",
              "<svg xmlns=\"http://www.w3.org/2000/svg\" height=\"24px\"viewBox=\"0 0 24 24\"\n",
              "     width=\"24px\">\n",
              "    <g>\n",
              "        <path d=\"M19 3H5c-1.1 0-2 .9-2 2v14c0 1.1.9 2 2 2h14c1.1 0 2-.9 2-2V5c0-1.1-.9-2-2-2zM9 17H7v-7h2v7zm4 0h-2V7h2v10zm4 0h-2v-4h2v4z\"/>\n",
              "    </g>\n",
              "</svg>\n",
              "  </button>\n",
              "\n",
              "<style>\n",
              "  .colab-df-quickchart {\n",
              "      --bg-color: #E8F0FE;\n",
              "      --fill-color: #1967D2;\n",
              "      --hover-bg-color: #E2EBFA;\n",
              "      --hover-fill-color: #174EA6;\n",
              "      --disabled-fill-color: #AAA;\n",
              "      --disabled-bg-color: #DDD;\n",
              "  }\n",
              "\n",
              "  [theme=dark] .colab-df-quickchart {\n",
              "      --bg-color: #3B4455;\n",
              "      --fill-color: #D2E3FC;\n",
              "      --hover-bg-color: #434B5C;\n",
              "      --hover-fill-color: #FFFFFF;\n",
              "      --disabled-bg-color: #3B4455;\n",
              "      --disabled-fill-color: #666;\n",
              "  }\n",
              "\n",
              "  .colab-df-quickchart {\n",
              "    background-color: var(--bg-color);\n",
              "    border: none;\n",
              "    border-radius: 50%;\n",
              "    cursor: pointer;\n",
              "    display: none;\n",
              "    fill: var(--fill-color);\n",
              "    height: 32px;\n",
              "    padding: 0;\n",
              "    width: 32px;\n",
              "  }\n",
              "\n",
              "  .colab-df-quickchart:hover {\n",
              "    background-color: var(--hover-bg-color);\n",
              "    box-shadow: 0 1px 2px rgba(60, 64, 67, 0.3), 0 1px 3px 1px rgba(60, 64, 67, 0.15);\n",
              "    fill: var(--button-hover-fill-color);\n",
              "  }\n",
              "\n",
              "  .colab-df-quickchart-complete:disabled,\n",
              "  .colab-df-quickchart-complete:disabled:hover {\n",
              "    background-color: var(--disabled-bg-color);\n",
              "    fill: var(--disabled-fill-color);\n",
              "    box-shadow: none;\n",
              "  }\n",
              "\n",
              "  .colab-df-spinner {\n",
              "    border: 2px solid var(--fill-color);\n",
              "    border-color: transparent;\n",
              "    border-bottom-color: var(--fill-color);\n",
              "    animation:\n",
              "      spin 1s steps(1) infinite;\n",
              "  }\n",
              "\n",
              "  @keyframes spin {\n",
              "    0% {\n",
              "      border-color: transparent;\n",
              "      border-bottom-color: var(--fill-color);\n",
              "      border-left-color: var(--fill-color);\n",
              "    }\n",
              "    20% {\n",
              "      border-color: transparent;\n",
              "      border-left-color: var(--fill-color);\n",
              "      border-top-color: var(--fill-color);\n",
              "    }\n",
              "    30% {\n",
              "      border-color: transparent;\n",
              "      border-left-color: var(--fill-color);\n",
              "      border-top-color: var(--fill-color);\n",
              "      border-right-color: var(--fill-color);\n",
              "    }\n",
              "    40% {\n",
              "      border-color: transparent;\n",
              "      border-right-color: var(--fill-color);\n",
              "      border-top-color: var(--fill-color);\n",
              "    }\n",
              "    60% {\n",
              "      border-color: transparent;\n",
              "      border-right-color: var(--fill-color);\n",
              "    }\n",
              "    80% {\n",
              "      border-color: transparent;\n",
              "      border-right-color: var(--fill-color);\n",
              "      border-bottom-color: var(--fill-color);\n",
              "    }\n",
              "    90% {\n",
              "      border-color: transparent;\n",
              "      border-bottom-color: var(--fill-color);\n",
              "    }\n",
              "  }\n",
              "</style>\n",
              "\n",
              "  <script>\n",
              "    async function quickchart(key) {\n",
              "      const quickchartButtonEl =\n",
              "        document.querySelector('#' + key + ' button');\n",
              "      quickchartButtonEl.disabled = true;  // To prevent multiple clicks.\n",
              "      quickchartButtonEl.classList.add('colab-df-spinner');\n",
              "      try {\n",
              "        const charts = await google.colab.kernel.invokeFunction(\n",
              "            'suggestCharts', [key], {});\n",
              "      } catch (error) {\n",
              "        console.error('Error during call to suggestCharts:', error);\n",
              "      }\n",
              "      quickchartButtonEl.classList.remove('colab-df-spinner');\n",
              "      quickchartButtonEl.classList.add('colab-df-quickchart-complete');\n",
              "    }\n",
              "    (() => {\n",
              "      let quickchartButtonEl =\n",
              "        document.querySelector('#df-622921ae-4c0d-4ad2-90a3-42d04ed9ef19 button');\n",
              "      quickchartButtonEl.style.display =\n",
              "        google.colab.kernel.accessAllowed ? 'block' : 'none';\n",
              "    })();\n",
              "  </script>\n",
              "</div>\n",
              "    </div>\n",
              "  </div>\n"
            ]
          },
          "metadata": {},
          "execution_count": 88
        }
      ]
    },
    {
      "cell_type": "markdown",
      "source": [
        "Se cuentan los diferentes valores que se encuentran en la variable objetivo sdg para evidenciar la distribución de estos y analizar su importancia relativa."
      ],
      "metadata": {
        "id": "QIa_BX80LeaY"
      }
    },
    {
      "cell_type": "code",
      "source": [
        "df[\"sdg\"].value_counts(dropna=False, normalize=True)"
      ],
      "metadata": {
        "colab": {
          "base_uri": "https://localhost:8080/"
        },
        "id": "cj_kOS5dLVwB",
        "outputId": "4e2dc8eb-dc6e-4a63-9db0-1f6487e3ced3"
      },
      "execution_count": 89,
      "outputs": [
        {
          "output_type": "execute_result",
          "data": {
            "text/plain": [
              "6     0.333333\n",
              "7     0.333333\n",
              "16    0.333333\n",
              "Name: sdg, dtype: float64"
            ]
          },
          "metadata": {},
          "execution_count": 89
        }
      ]
    },
    {
      "cell_type": "markdown",
      "source": [
        "Normalizamos el texto convirtiendo todas las letras a minúsculas. Esto evita que el modelo considere palabras en mayúsculas y minúsculas como diferentes."
      ],
      "metadata": {
        "id": "uqHymyZSXZ2w"
      }
    },
    {
      "cell_type": "code",
      "source": [
        "df['Textos_espanol'] = df['Textos_espanol'].str.lower()"
      ],
      "metadata": {
        "id": "QmJWSPClSzlo"
      },
      "execution_count": 90,
      "outputs": []
    },
    {
      "cell_type": "markdown",
      "source": [
        "Eliminamos caracteres especiales, signos de puntuación y otros caracteres que no son esenciales para el análisis de texto. Esto puede mejorar la consistencia en los datos y reducir el ruido. Además, dejamos todos los caracteres acentuados sin el acento."
      ],
      "metadata": {
        "id": "oA5rkFfaXiHv"
      }
    },
    {
      "cell_type": "code",
      "source": [
        "def limpiar_texto(texto):\n",
        "    # Normaliza a la forma no acentuada\n",
        "    texto = unicodedata.normalize('NFKD', texto)\n",
        "    # Utiliza una expresión regular para eliminar caracteres no alfabéticos estándar\n",
        "    return ''.join([c for c in texto if not unicodedata.combining(c)])\n",
        "\n",
        "# Aplica la función de limpieza a la columna \"Textos_espanol\"\n",
        "df['Textos_espanol'] = df['Textos_espanol'].apply(limpiar_texto)"
      ],
      "metadata": {
        "id": "Ml-hMfclXn1P"
      },
      "execution_count": 91,
      "outputs": []
    },
    {
      "cell_type": "markdown",
      "source": [
        "Eliminamos las stop words ya que no aportan significancia al modelo de clasificación."
      ],
      "metadata": {
        "id": "PHGZri_YYUqY"
      }
    },
    {
      "cell_type": "code",
      "source": [
        "# Aplicar eliminación de stop words a la columna 'Textos_espanol'\n",
        "df['Textos_espanol'] = df['Textos_espanol'].apply(lambda x: ' '.join([word for word in x.split() if word not in stop_words]))\n"
      ],
      "metadata": {
        "id": "iyfRBveWYkn-"
      },
      "execution_count": 92,
      "outputs": []
    },
    {
      "cell_type": "markdown",
      "source": [
        "Realizamos un proceso de derivación a las palabras del texto, lo que hace que se reduzca la variabilidad de las palabras en un texto, de modo que palabras relacionadas se mapeen a una forma común, permitiendo tratar palabras relacionadas como si fueran idénticas."
      ],
      "metadata": {
        "id": "4wmsSrOXby73"
      }
    },
    {
      "cell_type": "code",
      "source": [
        "stemmer = SnowballStemmer(\"spanish\")\n",
        "\n",
        "#Funcion encargada de la derivación de un texto\n",
        "def derivar_texto(texto):\n",
        "    return ' '.join([stemmer.stem(word) for word in texto.split()])\n",
        "\n",
        "    df['Textos_espanol'] = df['Textos_espanol'].apply(derivar_texto)\n"
      ],
      "metadata": {
        "id": "T-oJ-FsQbH_X"
      },
      "execution_count": 93,
      "outputs": []
    },
    {
      "cell_type": "code",
      "source": [
        "df.sample(3)"
      ],
      "metadata": {
        "colab": {
          "base_uri": "https://localhost:8080/",
          "height": 317
        },
        "id": "InGHSkgJTToI",
        "outputId": "371adc1c-98ab-47f5-e7b0-4853588b48bd"
      },
      "execution_count": 94,
      "outputs": [
        {
          "output_type": "execute_result",
          "data": {
            "text/plain": [
              "                                                                                                                                                                                                                                                                                                                                                                                                                                                                                                                                                                                                                                                                                                                                                                                                                                                          Textos_espanol  \\\n",
              "1133                                                                                                                                                                                                                                                                                                                                                                                                                                                                                               empresas servicios publicos capacidad tecnica, financiera comercial integrada puede disponible lugares. 2011, invirtieron 7 000 millones dolares proyectos eficiencia energetica financiados contribuyentes, produjo reduccion energia estimada 117 twh. 2012, habia 25 normas recursos eficiencia energetica 9 adoptaron politicas. ( foster wallace dahlberg 2013).   \n",
              "1922                                                                                                                                                                                                                                                                                                                                                                                                                                                                                                                    tanto, cuestiones organizacion mercado importantes determinar competitividad relativa diferentes combustibles. tambien pueden abrir brecha beneficios costos privados sociales diferentes combustibles. haciendo abstraccion momento pequenas cantidades emisiones construccion, produccion electricidad base nuclear libre carbono operaciones.   \n",
              "2535  acnur creado virtud articulo 22 carta naciones unidas organo subsidiario asamblea general. practica acnur respecto retornados va mas alla mera proteccion. asamblea general encomendado alto comisionado trabaje refugiados bajo paraguas \"buenos oficios\" incluso trabaje pais desplazados internos. examinar diversas fuentes derecho aplicables situaciones crisis aguda, senalar aspecto labor acnur paises. vision tradicional trabajo acnur proteccion personas traves frontera. situaciones crisis aguda marco juridico internacional adicional especifico refugiados. legislacion internacional derechos humanos aplica momento cualquier persona encuentre dentro jurisdiccion estado, sujeta unicamente excepciones legitimas debidamente declaradas. palabras clave: crisis aguda, derecho internacional derechos humanos, acnur, carta naciones unidas   \n",
              "\n",
              "      sdg  \n",
              "1133    7  \n",
              "1922    7  \n",
              "2535   16  "
            ],
            "text/html": [
              "\n",
              "  <div id=\"df-49520bfe-eec3-403e-ae83-a48b7df2d6a4\" class=\"colab-df-container\">\n",
              "    <div>\n",
              "<style scoped>\n",
              "    .dataframe tbody tr th:only-of-type {\n",
              "        vertical-align: middle;\n",
              "    }\n",
              "\n",
              "    .dataframe tbody tr th {\n",
              "        vertical-align: top;\n",
              "    }\n",
              "\n",
              "    .dataframe thead th {\n",
              "        text-align: right;\n",
              "    }\n",
              "</style>\n",
              "<table border=\"1\" class=\"dataframe\">\n",
              "  <thead>\n",
              "    <tr style=\"text-align: right;\">\n",
              "      <th></th>\n",
              "      <th>Textos_espanol</th>\n",
              "      <th>sdg</th>\n",
              "    </tr>\n",
              "  </thead>\n",
              "  <tbody>\n",
              "    <tr>\n",
              "      <th>1133</th>\n",
              "      <td>empresas servicios publicos capacidad tecnica, financiera comercial integrada puede disponible lugares. 2011, invirtieron 7 000 millones dolares proyectos eficiencia energetica financiados contribuyentes, produjo reduccion energia estimada 117 twh. 2012, habia 25 normas recursos eficiencia energetica 9 adoptaron politicas. ( foster wallace dahlberg 2013).</td>\n",
              "      <td>7</td>\n",
              "    </tr>\n",
              "    <tr>\n",
              "      <th>1922</th>\n",
              "      <td>tanto, cuestiones organizacion mercado importantes determinar competitividad relativa diferentes combustibles. tambien pueden abrir brecha beneficios costos privados sociales diferentes combustibles. haciendo abstraccion momento pequenas cantidades emisiones construccion, produccion electricidad base nuclear libre carbono operaciones.</td>\n",
              "      <td>7</td>\n",
              "    </tr>\n",
              "    <tr>\n",
              "      <th>2535</th>\n",
              "      <td>acnur creado virtud articulo 22 carta naciones unidas organo subsidiario asamblea general. practica acnur respecto retornados va mas alla mera proteccion. asamblea general encomendado alto comisionado trabaje refugiados bajo paraguas \"buenos oficios\" incluso trabaje pais desplazados internos. examinar diversas fuentes derecho aplicables situaciones crisis aguda, senalar aspecto labor acnur paises. vision tradicional trabajo acnur proteccion personas traves frontera. situaciones crisis aguda marco juridico internacional adicional especifico refugiados. legislacion internacional derechos humanos aplica momento cualquier persona encuentre dentro jurisdiccion estado, sujeta unicamente excepciones legitimas debidamente declaradas. palabras clave: crisis aguda, derecho internacional derechos humanos, acnur, carta naciones unidas</td>\n",
              "      <td>16</td>\n",
              "    </tr>\n",
              "  </tbody>\n",
              "</table>\n",
              "</div>\n",
              "    <div class=\"colab-df-buttons\">\n",
              "\n",
              "  <div class=\"colab-df-container\">\n",
              "    <button class=\"colab-df-convert\" onclick=\"convertToInteractive('df-49520bfe-eec3-403e-ae83-a48b7df2d6a4')\"\n",
              "            title=\"Convert this dataframe to an interactive table.\"\n",
              "            style=\"display:none;\">\n",
              "\n",
              "  <svg xmlns=\"http://www.w3.org/2000/svg\" height=\"24px\" viewBox=\"0 -960 960 960\">\n",
              "    <path d=\"M120-120v-720h720v720H120Zm60-500h600v-160H180v160Zm220 220h160v-160H400v160Zm0 220h160v-160H400v160ZM180-400h160v-160H180v160Zm440 0h160v-160H620v160ZM180-180h160v-160H180v160Zm440 0h160v-160H620v160Z\"/>\n",
              "  </svg>\n",
              "    </button>\n",
              "\n",
              "  <style>\n",
              "    .colab-df-container {\n",
              "      display:flex;\n",
              "      gap: 12px;\n",
              "    }\n",
              "\n",
              "    .colab-df-convert {\n",
              "      background-color: #E8F0FE;\n",
              "      border: none;\n",
              "      border-radius: 50%;\n",
              "      cursor: pointer;\n",
              "      display: none;\n",
              "      fill: #1967D2;\n",
              "      height: 32px;\n",
              "      padding: 0 0 0 0;\n",
              "      width: 32px;\n",
              "    }\n",
              "\n",
              "    .colab-df-convert:hover {\n",
              "      background-color: #E2EBFA;\n",
              "      box-shadow: 0px 1px 2px rgba(60, 64, 67, 0.3), 0px 1px 3px 1px rgba(60, 64, 67, 0.15);\n",
              "      fill: #174EA6;\n",
              "    }\n",
              "\n",
              "    .colab-df-buttons div {\n",
              "      margin-bottom: 4px;\n",
              "    }\n",
              "\n",
              "    [theme=dark] .colab-df-convert {\n",
              "      background-color: #3B4455;\n",
              "      fill: #D2E3FC;\n",
              "    }\n",
              "\n",
              "    [theme=dark] .colab-df-convert:hover {\n",
              "      background-color: #434B5C;\n",
              "      box-shadow: 0px 1px 3px 1px rgba(0, 0, 0, 0.15);\n",
              "      filter: drop-shadow(0px 1px 2px rgba(0, 0, 0, 0.3));\n",
              "      fill: #FFFFFF;\n",
              "    }\n",
              "  </style>\n",
              "\n",
              "    <script>\n",
              "      const buttonEl =\n",
              "        document.querySelector('#df-49520bfe-eec3-403e-ae83-a48b7df2d6a4 button.colab-df-convert');\n",
              "      buttonEl.style.display =\n",
              "        google.colab.kernel.accessAllowed ? 'block' : 'none';\n",
              "\n",
              "      async function convertToInteractive(key) {\n",
              "        const element = document.querySelector('#df-49520bfe-eec3-403e-ae83-a48b7df2d6a4');\n",
              "        const dataTable =\n",
              "          await google.colab.kernel.invokeFunction('convertToInteractive',\n",
              "                                                    [key], {});\n",
              "        if (!dataTable) return;\n",
              "\n",
              "        const docLinkHtml = 'Like what you see? Visit the ' +\n",
              "          '<a target=\"_blank\" href=https://colab.research.google.com/notebooks/data_table.ipynb>data table notebook</a>'\n",
              "          + ' to learn more about interactive tables.';\n",
              "        element.innerHTML = '';\n",
              "        dataTable['output_type'] = 'display_data';\n",
              "        await google.colab.output.renderOutput(dataTable, element);\n",
              "        const docLink = document.createElement('div');\n",
              "        docLink.innerHTML = docLinkHtml;\n",
              "        element.appendChild(docLink);\n",
              "      }\n",
              "    </script>\n",
              "  </div>\n",
              "\n",
              "\n",
              "<div id=\"df-9f53b1c4-f8fe-47ef-b851-cfe2f93a80ac\">\n",
              "  <button class=\"colab-df-quickchart\" onclick=\"quickchart('df-9f53b1c4-f8fe-47ef-b851-cfe2f93a80ac')\"\n",
              "            title=\"Suggest charts.\"\n",
              "            style=\"display:none;\">\n",
              "\n",
              "<svg xmlns=\"http://www.w3.org/2000/svg\" height=\"24px\"viewBox=\"0 0 24 24\"\n",
              "     width=\"24px\">\n",
              "    <g>\n",
              "        <path d=\"M19 3H5c-1.1 0-2 .9-2 2v14c0 1.1.9 2 2 2h14c1.1 0 2-.9 2-2V5c0-1.1-.9-2-2-2zM9 17H7v-7h2v7zm4 0h-2V7h2v10zm4 0h-2v-4h2v4z\"/>\n",
              "    </g>\n",
              "</svg>\n",
              "  </button>\n",
              "\n",
              "<style>\n",
              "  .colab-df-quickchart {\n",
              "      --bg-color: #E8F0FE;\n",
              "      --fill-color: #1967D2;\n",
              "      --hover-bg-color: #E2EBFA;\n",
              "      --hover-fill-color: #174EA6;\n",
              "      --disabled-fill-color: #AAA;\n",
              "      --disabled-bg-color: #DDD;\n",
              "  }\n",
              "\n",
              "  [theme=dark] .colab-df-quickchart {\n",
              "      --bg-color: #3B4455;\n",
              "      --fill-color: #D2E3FC;\n",
              "      --hover-bg-color: #434B5C;\n",
              "      --hover-fill-color: #FFFFFF;\n",
              "      --disabled-bg-color: #3B4455;\n",
              "      --disabled-fill-color: #666;\n",
              "  }\n",
              "\n",
              "  .colab-df-quickchart {\n",
              "    background-color: var(--bg-color);\n",
              "    border: none;\n",
              "    border-radius: 50%;\n",
              "    cursor: pointer;\n",
              "    display: none;\n",
              "    fill: var(--fill-color);\n",
              "    height: 32px;\n",
              "    padding: 0;\n",
              "    width: 32px;\n",
              "  }\n",
              "\n",
              "  .colab-df-quickchart:hover {\n",
              "    background-color: var(--hover-bg-color);\n",
              "    box-shadow: 0 1px 2px rgba(60, 64, 67, 0.3), 0 1px 3px 1px rgba(60, 64, 67, 0.15);\n",
              "    fill: var(--button-hover-fill-color);\n",
              "  }\n",
              "\n",
              "  .colab-df-quickchart-complete:disabled,\n",
              "  .colab-df-quickchart-complete:disabled:hover {\n",
              "    background-color: var(--disabled-bg-color);\n",
              "    fill: var(--disabled-fill-color);\n",
              "    box-shadow: none;\n",
              "  }\n",
              "\n",
              "  .colab-df-spinner {\n",
              "    border: 2px solid var(--fill-color);\n",
              "    border-color: transparent;\n",
              "    border-bottom-color: var(--fill-color);\n",
              "    animation:\n",
              "      spin 1s steps(1) infinite;\n",
              "  }\n",
              "\n",
              "  @keyframes spin {\n",
              "    0% {\n",
              "      border-color: transparent;\n",
              "      border-bottom-color: var(--fill-color);\n",
              "      border-left-color: var(--fill-color);\n",
              "    }\n",
              "    20% {\n",
              "      border-color: transparent;\n",
              "      border-left-color: var(--fill-color);\n",
              "      border-top-color: var(--fill-color);\n",
              "    }\n",
              "    30% {\n",
              "      border-color: transparent;\n",
              "      border-left-color: var(--fill-color);\n",
              "      border-top-color: var(--fill-color);\n",
              "      border-right-color: var(--fill-color);\n",
              "    }\n",
              "    40% {\n",
              "      border-color: transparent;\n",
              "      border-right-color: var(--fill-color);\n",
              "      border-top-color: var(--fill-color);\n",
              "    }\n",
              "    60% {\n",
              "      border-color: transparent;\n",
              "      border-right-color: var(--fill-color);\n",
              "    }\n",
              "    80% {\n",
              "      border-color: transparent;\n",
              "      border-right-color: var(--fill-color);\n",
              "      border-bottom-color: var(--fill-color);\n",
              "    }\n",
              "    90% {\n",
              "      border-color: transparent;\n",
              "      border-bottom-color: var(--fill-color);\n",
              "    }\n",
              "  }\n",
              "</style>\n",
              "\n",
              "  <script>\n",
              "    async function quickchart(key) {\n",
              "      const quickchartButtonEl =\n",
              "        document.querySelector('#' + key + ' button');\n",
              "      quickchartButtonEl.disabled = true;  // To prevent multiple clicks.\n",
              "      quickchartButtonEl.classList.add('colab-df-spinner');\n",
              "      try {\n",
              "        const charts = await google.colab.kernel.invokeFunction(\n",
              "            'suggestCharts', [key], {});\n",
              "      } catch (error) {\n",
              "        console.error('Error during call to suggestCharts:', error);\n",
              "      }\n",
              "      quickchartButtonEl.classList.remove('colab-df-spinner');\n",
              "      quickchartButtonEl.classList.add('colab-df-quickchart-complete');\n",
              "    }\n",
              "    (() => {\n",
              "      let quickchartButtonEl =\n",
              "        document.querySelector('#df-9f53b1c4-f8fe-47ef-b851-cfe2f93a80ac button');\n",
              "      quickchartButtonEl.style.display =\n",
              "        google.colab.kernel.accessAllowed ? 'block' : 'none';\n",
              "    })();\n",
              "  </script>\n",
              "</div>\n",
              "    </div>\n",
              "  </div>\n"
            ]
          },
          "metadata": {},
          "execution_count": 94
        }
      ]
    },
    {
      "cell_type": "markdown",
      "source": [
        "### División de los datos en entrenamiento y prueba\n",
        "\n",
        "En esta sección, estamos particionando los datos en dos grupos distintos: uno se destina al entrenamiento y el otro al testing. Dado que estamos empleando machine learning supervisado, esto implica que utilizaremos un conjunto de datos para enseñar a nuestro modelo, utilizando las etiquetas que ciertos valores deben tener. Luego, emplearemos el conjunto de prueba para verificar si nuestro modelo es capaz de asignar las etiquetas de manera precisa a un conjunto de datos para el cual no conoce las etiquetas previamente. Evaluaremos su desempeño utilizando las métricas de error pertinentes."
      ],
      "metadata": {
        "id": "Pa7XMGVNMLOB"
      }
    },
    {
      "cell_type": "code",
      "source": [
        "X_train, X_test, y_train, y_test = train_test_split(df[\"Textos_espanol\"], df[\"sdg\"], test_size = 0.2, stratify = df[\"sdg\"], random_state = 1)"
      ],
      "metadata": {
        "id": "9mZgxA8YMqTI"
      },
      "execution_count": 95,
      "outputs": []
    },
    {
      "cell_type": "code",
      "source": [
        "X_train.shape"
      ],
      "metadata": {
        "colab": {
          "base_uri": "https://localhost:8080/"
        },
        "id": "iEeNSelzMybK",
        "outputId": "dce21f27-cede-4c45-d61d-10810fb29cc3"
      },
      "execution_count": 96,
      "outputs": [
        {
          "output_type": "execute_result",
          "data": {
            "text/plain": [
              "(2400,)"
            ]
          },
          "metadata": {},
          "execution_count": 96
        }
      ]
    },
    {
      "cell_type": "code",
      "source": [
        "pd.Series(y_train).value_counts(normalize=True)"
      ],
      "metadata": {
        "colab": {
          "base_uri": "https://localhost:8080/"
        },
        "id": "3r1x0FfiM0bi",
        "outputId": "16670fe3-47a0-4523-c97e-7bb3ef82449c"
      },
      "execution_count": 97,
      "outputs": [
        {
          "output_type": "execute_result",
          "data": {
            "text/plain": [
              "7     0.333333\n",
              "6     0.333333\n",
              "16    0.333333\n",
              "Name: sdg, dtype: float64"
            ]
          },
          "metadata": {},
          "execution_count": 97
        }
      ]
    },
    {
      "cell_type": "code",
      "source": [
        "X_test.shape"
      ],
      "metadata": {
        "colab": {
          "base_uri": "https://localhost:8080/"
        },
        "id": "Y6EcqGuUM6Va",
        "outputId": "d98cc858-f1e1-4e8c-a5c5-a6040c3a8bf1"
      },
      "execution_count": 98,
      "outputs": [
        {
          "output_type": "execute_result",
          "data": {
            "text/plain": [
              "(600,)"
            ]
          },
          "metadata": {},
          "execution_count": 98
        }
      ]
    },
    {
      "cell_type": "code",
      "source": [
        "pd.Series(y_test).value_counts(normalize=True)"
      ],
      "metadata": {
        "colab": {
          "base_uri": "https://localhost:8080/"
        },
        "id": "Mmz3UpEqM-B4",
        "outputId": "e22af961-40ab-4fd9-a2d6-7712bc1245f2"
      },
      "execution_count": 99,
      "outputs": [
        {
          "output_type": "execute_result",
          "data": {
            "text/plain": [
              "16    0.333333\n",
              "6     0.333333\n",
              "7     0.333333\n",
              "Name: sdg, dtype: float64"
            ]
          },
          "metadata": {},
          "execution_count": 99
        }
      ]
    },
    {
      "cell_type": "markdown",
      "source": [
        "### Vectorización de los datos de texto\n",
        "\n",
        "En esta sección, estamos convirtiendo las palabras en un único vector. Esto es necesario debido a que la vectorización de datos de texto es esencial en el análisis de texto por clasificación, ya que convierte el texto en una forma que es comprensible y utilizable por los algoritmos de aprendizaje automático, como son los vectores, lo que le permite al modelo aprender y realizar clasificaciones."
      ],
      "metadata": {
        "id": "qtjkfzZ6O7VI"
      }
    },
    {
      "cell_type": "markdown",
      "source": [
        "Antes de haber realizado los ajustes en los datos en los pasos anteriores, donde se hizo una limpieza y transformación de los datos de tal forma que facilitaran el modelo de clasificación, se realizó una vectorización que se evidencia en la siguiente imagen donde se puede evidenciar un tamaño del vocabulario cercano a las 20.000 palabras.\n",
        "\n",
        "![image.png](data:image/png;base64,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)"
      ],
      "metadata": {
        "id": "VnA2PaB6ceSf"
      }
    },
    {
      "cell_type": "markdown",
      "source": [
        "Ahora tras haber realizado dichas eliminaciones y transformaciones al dataframe encontramos vectores más pequeños, con un poco más de 100 palabras menos que el vector encontrado anteriormente.\n",
        "\n",
        "Esto es una buena señal, haber disminuido el tamaño del vector en un bajo porcentaje hace que los datos se mantengan consistentes, es decir, no se ha perdido información valiosa ni eliminado más de la cuenta palabras necesarias para el modelo de clasificación."
      ],
      "metadata": {
        "id": "mWkeVyfQdXa-"
      }
    },
    {
      "cell_type": "code",
      "source": [
        "bow = CountVectorizer(tokenizer=tokenizer, stop_words=list(stop_words), lowercase=True)"
      ],
      "metadata": {
        "id": "DOVSTw2sPigT"
      },
      "execution_count": 100,
      "outputs": []
    },
    {
      "cell_type": "code",
      "source": [
        "X_bow = bow.fit_transform(X_train)"
      ],
      "metadata": {
        "colab": {
          "base_uri": "https://localhost:8080/"
        },
        "id": "Cp6QCumzPmrh",
        "outputId": "2c73009d-3202-47de-85ac-5e1346627300"
      },
      "execution_count": 101,
      "outputs": [
        {
          "output_type": "stream",
          "name": "stderr",
          "text": [
            "/usr/local/lib/python3.10/dist-packages/sklearn/feature_extraction/text.py:528: UserWarning: The parameter 'token_pattern' will not be used since 'tokenizer' is not None'\n",
            "  warnings.warn(\n"
          ]
        }
      ]
    },
    {
      "cell_type": "code",
      "source": [
        "print(\"Tamaño del vocabulario:\", len(bow.vocabulary_))"
      ],
      "metadata": {
        "colab": {
          "base_uri": "https://localhost:8080/"
        },
        "id": "pyV6qFpZPp15",
        "outputId": "9b9ee6bb-9dbe-4a80-e628-2b0c3da1407e"
      },
      "execution_count": 102,
      "outputs": [
        {
          "output_type": "stream",
          "name": "stdout",
          "text": [
            "Tamaño del vocabulario: 19816\n"
          ]
        }
      ]
    },
    {
      "cell_type": "code",
      "source": [
        "tfidf = TfidfVectorizer(tokenizer=tokenizer, stop_words=list(stop_words), lowercase=True, max_features=12701)"
      ],
      "metadata": {
        "id": "Qm3S_qdwPva4"
      },
      "execution_count": 103,
      "outputs": []
    },
    {
      "cell_type": "code",
      "source": [
        "X_tfidf = tfidf.fit_transform(X_train)"
      ],
      "metadata": {
        "id": "2pc_yjcCPxwg"
      },
      "execution_count": 104,
      "outputs": []
    },
    {
      "cell_type": "code",
      "source": [
        "print(\"Tamaño del vocabulario:\", len(tfidf.vocabulary_))"
      ],
      "metadata": {
        "colab": {
          "base_uri": "https://localhost:8080/"
        },
        "id": "k3jRdIy3P0YC",
        "outputId": "a8e4860b-d878-488d-8455-09a99fa58917"
      },
      "execution_count": 105,
      "outputs": [
        {
          "output_type": "stream",
          "name": "stdout",
          "text": [
            "Tamaño del vocabulario: 12701\n"
          ]
        }
      ]
    },
    {
      "cell_type": "markdown",
      "source": [
        "### Modelo Random Forest Classifier Bow\n",
        "##### Modelo entrenado por: David Rincón\n",
        "\n",
        "\n",
        "Este modelo utiliza el clasificador Random Forest con una representación vectorial de tipo Bag of Words (BoW) en un conjunto de 3000 datos. El algoritmo crea un árbol de decisión donde asigna importancia a ciertos valores, en este caso, palabras, para determinar a que tipo de ODS pertenece."
      ],
      "metadata": {
        "id": "EQQZOFb6ke4H"
      }
    },
    {
      "cell_type": "code",
      "source": [
        "bow_model = RandomForestClassifier(random_state = 2)"
      ],
      "metadata": {
        "id": "DAHfLiRWkt1L"
      },
      "execution_count": 106,
      "outputs": []
    },
    {
      "cell_type": "code",
      "source": [
        "bow_model.fit(X_bow, y_train)"
      ],
      "metadata": {
        "colab": {
          "base_uri": "https://localhost:8080/",
          "height": 75
        },
        "id": "Ybr8M3GglN12",
        "outputId": "868bf5d0-1749-4165-da90-6b9a5bd23900"
      },
      "execution_count": 107,
      "outputs": [
        {
          "output_type": "execute_result",
          "data": {
            "text/plain": [
              "RandomForestClassifier(random_state=2)"
            ],
            "text/html": [
              "<style>#sk-container-id-5 {color: black;background-color: white;}#sk-container-id-5 pre{padding: 0;}#sk-container-id-5 div.sk-toggleable {background-color: white;}#sk-container-id-5 label.sk-toggleable__label {cursor: pointer;display: block;width: 100%;margin-bottom: 0;padding: 0.3em;box-sizing: border-box;text-align: center;}#sk-container-id-5 label.sk-toggleable__label-arrow:before {content: \"▸\";float: left;margin-right: 0.25em;color: #696969;}#sk-container-id-5 label.sk-toggleable__label-arrow:hover:before {color: black;}#sk-container-id-5 div.sk-estimator:hover label.sk-toggleable__label-arrow:before {color: black;}#sk-container-id-5 div.sk-toggleable__content {max-height: 0;max-width: 0;overflow: hidden;text-align: left;background-color: #f0f8ff;}#sk-container-id-5 div.sk-toggleable__content pre {margin: 0.2em;color: black;border-radius: 0.25em;background-color: #f0f8ff;}#sk-container-id-5 input.sk-toggleable__control:checked~div.sk-toggleable__content {max-height: 200px;max-width: 100%;overflow: auto;}#sk-container-id-5 input.sk-toggleable__control:checked~label.sk-toggleable__label-arrow:before {content: \"▾\";}#sk-container-id-5 div.sk-estimator input.sk-toggleable__control:checked~label.sk-toggleable__label {background-color: #d4ebff;}#sk-container-id-5 div.sk-label input.sk-toggleable__control:checked~label.sk-toggleable__label {background-color: #d4ebff;}#sk-container-id-5 input.sk-hidden--visually {border: 0;clip: rect(1px 1px 1px 1px);clip: rect(1px, 1px, 1px, 1px);height: 1px;margin: -1px;overflow: hidden;padding: 0;position: absolute;width: 1px;}#sk-container-id-5 div.sk-estimator {font-family: monospace;background-color: #f0f8ff;border: 1px dotted black;border-radius: 0.25em;box-sizing: border-box;margin-bottom: 0.5em;}#sk-container-id-5 div.sk-estimator:hover {background-color: #d4ebff;}#sk-container-id-5 div.sk-parallel-item::after {content: \"\";width: 100%;border-bottom: 1px solid gray;flex-grow: 1;}#sk-container-id-5 div.sk-label:hover label.sk-toggleable__label {background-color: #d4ebff;}#sk-container-id-5 div.sk-serial::before {content: \"\";position: absolute;border-left: 1px solid gray;box-sizing: border-box;top: 0;bottom: 0;left: 50%;z-index: 0;}#sk-container-id-5 div.sk-serial {display: flex;flex-direction: column;align-items: center;background-color: white;padding-right: 0.2em;padding-left: 0.2em;position: relative;}#sk-container-id-5 div.sk-item {position: relative;z-index: 1;}#sk-container-id-5 div.sk-parallel {display: flex;align-items: stretch;justify-content: center;background-color: white;position: relative;}#sk-container-id-5 div.sk-item::before, #sk-container-id-5 div.sk-parallel-item::before {content: \"\";position: absolute;border-left: 1px solid gray;box-sizing: border-box;top: 0;bottom: 0;left: 50%;z-index: -1;}#sk-container-id-5 div.sk-parallel-item {display: flex;flex-direction: column;z-index: 1;position: relative;background-color: white;}#sk-container-id-5 div.sk-parallel-item:first-child::after {align-self: flex-end;width: 50%;}#sk-container-id-5 div.sk-parallel-item:last-child::after {align-self: flex-start;width: 50%;}#sk-container-id-5 div.sk-parallel-item:only-child::after {width: 0;}#sk-container-id-5 div.sk-dashed-wrapped {border: 1px dashed gray;margin: 0 0.4em 0.5em 0.4em;box-sizing: border-box;padding-bottom: 0.4em;background-color: white;}#sk-container-id-5 div.sk-label label {font-family: monospace;font-weight: bold;display: inline-block;line-height: 1.2em;}#sk-container-id-5 div.sk-label-container {text-align: center;}#sk-container-id-5 div.sk-container {/* jupyter's `normalize.less` sets `[hidden] { display: none; }` but bootstrap.min.css set `[hidden] { display: none !important; }` so we also need the `!important` here to be able to override the default hidden behavior on the sphinx rendered scikit-learn.org. See: https://github.com/scikit-learn/scikit-learn/issues/21755 */display: inline-block !important;position: relative;}#sk-container-id-5 div.sk-text-repr-fallback {display: none;}</style><div id=\"sk-container-id-5\" class=\"sk-top-container\"><div class=\"sk-text-repr-fallback\"><pre>RandomForestClassifier(random_state=2)</pre><b>In a Jupyter environment, please rerun this cell to show the HTML representation or trust the notebook. <br />On GitHub, the HTML representation is unable to render, please try loading this page with nbviewer.org.</b></div><div class=\"sk-container\" hidden><div class=\"sk-item\"><div class=\"sk-estimator sk-toggleable\"><input class=\"sk-toggleable__control sk-hidden--visually\" id=\"sk-estimator-id-5\" type=\"checkbox\" checked><label for=\"sk-estimator-id-5\" class=\"sk-toggleable__label sk-toggleable__label-arrow\">RandomForestClassifier</label><div class=\"sk-toggleable__content\"><pre>RandomForestClassifier(random_state=2)</pre></div></div></div></div></div>"
            ]
          },
          "metadata": {},
          "execution_count": 107
        }
      ]
    },
    {
      "cell_type": "code",
      "source": [
        "pd.Series(bow_model.feature_importances_, index = bow.vocabulary_).sort_values().tail(17).plot.barh(figsize = (15, 10))"
      ],
      "metadata": {
        "colab": {
          "base_uri": "https://localhost:8080/",
          "height": 625
        },
        "id": "IJLgPJWXlQwO",
        "outputId": "e0f8450d-0813-480e-c749-a0d3abf2a6eb"
      },
      "execution_count": 108,
      "outputs": [
        {
          "output_type": "execute_result",
          "data": {
            "text/plain": [
              "<Axes: >"
            ]
          },
          "metadata": {},
          "execution_count": 108
        },
        {
          "output_type": "display_data",
          "data": {
            "text/plain": [
              "<Figure size 1500x1000 with 1 Axes>"
            ],
            "image/png": "[encoded data removed]"
          },
          "metadata": {}
        }
      ]
    },
    {
      "cell_type": "code",
      "source": [
        "bow_estimators = bow_model.estimators_\n",
        "print('Numero de árboles:', len(bow_estimators))\n",
        "print('Profundidad de los árboles:', np.mean([tree.get_depth() for tree in bow_estimators]))"
      ],
      "metadata": {
        "colab": {
          "base_uri": "https://localhost:8080/"
        },
        "id": "iMZBWlCXlj98",
        "outputId": "6bdd3afd-2338-4b7b-8448-9c7d0c128b6e"
      },
      "execution_count": 109,
      "outputs": [
        {
          "output_type": "stream",
          "name": "stdout",
          "text": [
            "Numero de árboles: 100\n",
            "Profundidad de los árboles: 98.97\n"
          ]
        }
      ]
    },
    {
      "cell_type": "code",
      "source": [
        "y_train_bow_predict = bow_model.predict(X_bow)\n",
        "y_test_bow_predict = bow_model.predict(bow.transform(X_test))"
      ],
      "metadata": {
        "id": "MZsheH-Hlt1F"
      },
      "execution_count": 110,
      "outputs": []
    },
    {
      "cell_type": "code",
      "source": [
        "ConfusionMatrixDisplay.from_predictions(y_train, y_train_bow_predict)"
      ],
      "metadata": {
        "colab": {
          "base_uri": "https://localhost:8080/",
          "height": 472
        },
        "id": "xqIxMrHKlwXW",
        "outputId": "9502965d-b688-40b4-c62b-87210e9ac11a"
      },
      "execution_count": 111,
      "outputs": [
        {
          "output_type": "execute_result",
          "data": {
            "text/plain": [
              "<sklearn.metrics._plot.confusion_matrix.ConfusionMatrixDisplay at 0x7fc6dabe3160>"
            ]
          },
          "metadata": {},
          "execution_count": 111
        },
        {
          "output_type": "display_data",
          "data": {
            "text/plain": [
              "<Figure size 640x480 with 2 Axes>"
            ],
            "image/png": "[encoded data removed]"
          },
          "metadata": {}
        }
      ]
    },
    {
      "cell_type": "code",
      "source": [
        "ConfusionMatrixDisplay.from_predictions(y_test, y_test_bow_predict)"
      ],
      "metadata": {
        "colab": {
          "base_uri": "https://localhost:8080/",
          "height": 472
        },
        "id": "J5nFQmgul11d",
        "outputId": "eafb1a38-37ab-44a4-fa3e-de52157061ee"
      },
      "execution_count": 112,
      "outputs": [
        {
          "output_type": "execute_result",
          "data": {
            "text/plain": [
              "<sklearn.metrics._plot.confusion_matrix.ConfusionMatrixDisplay at 0x7fc6dabe3af0>"
            ]
          },
          "metadata": {},
          "execution_count": 112
        },
        {
          "output_type": "display_data",
          "data": {
            "text/plain": [
              "<Figure size 640x480 with 2 Axes>"
            ],
            "image/png": "[encoded data removed]"
          },
          "metadata": {}
        }
      ]
    },
    {
      "cell_type": "code",
      "source": [
        "# Para casos no binarios, es común calcular las métricas para cada clase\n",
        "print('Precision:', precision_score(y_train, y_train_bow_predict, average = None))\n",
        "print('Recall:', recall_score(y_train, y_train_bow_predict, average = None))\n",
        "print('F1:', f1_score(y_train, y_train_bow_predict, average = None))"
      ],
      "metadata": {
        "colab": {
          "base_uri": "https://localhost:8080/"
        },
        "id": "wVC_kbQRl-eB",
        "outputId": "d0235e1f-c79d-4367-ceb6-a5c97bbb8fbd"
      },
      "execution_count": 113,
      "outputs": [
        {
          "output_type": "stream",
          "name": "stdout",
          "text": [
            "Precision: [1. 1. 1.]\n",
            "Recall: [1. 1. 1.]\n",
            "F1: [1. 1. 1.]\n"
          ]
        }
      ]
    },
    {
      "cell_type": "code",
      "source": [
        "# Para casos no binarios, es común calcular las métricas para cada clase\n",
        "print('Precision:', precision_score(y_test, y_test_bow_predict, average = None))\n",
        "print('Recall:', recall_score(y_test, y_test_bow_predict, average = None))\n",
        "print('F1:', f1_score(y_test, y_test_bow_predict, average = None))"
      ],
      "metadata": {
        "colab": {
          "base_uri": "https://localhost:8080/"
        },
        "id": "0zdkrd1tmB0t",
        "outputId": "6705874d-ebec-43b8-bca0-32435dd831b4"
      },
      "execution_count": 114,
      "outputs": [
        {
          "output_type": "stream",
          "name": "stdout",
          "text": [
            "Precision: [0.98969072 0.96568627 0.99009901]\n",
            "Recall: [0.96  0.985 1.   ]\n",
            "F1: [0.97461929 0.97524752 0.99502488]\n"
          ]
        }
      ]
    },
    {
      "cell_type": "markdown",
      "source": [
        "#####Conclusiones\n",
        "\n",
        "Los resultados de la implementación del algoritmo clasificador Random Forest utilizando BoW para clasificar la variable objetivo ODS en tres categorías son positivos. Las métricas de precisión, recall y puntuación F1, todas alrededor del 98%, indican que el modelo es efectivo en la clasificación de las categorías de ODS. La alta precisión sugiere que la mayoría de las predicciones son correctas, y el recall muestra que el modelo captura la mayoría de las instancias de cada categoría. En general, estos porcentajes encontrados respaldan la robustez del modelo para esta tarea. No obstante, es importante considerar la posibilidad de overfitting y, por lo tanto, se recomienda una evaluación más amplia antes de su implementación en un entorno de producción."
      ],
      "metadata": {
        "id": "eaK-Ih3qteFj"
      }
    },
    {
      "cell_type": "markdown",
      "source": [
        "### Modelo Random Forest Classifier TFIDF\n",
        "##### Modelo entrenado por: David Rincón\n",
        "\n",
        "El modelo clasificador Random Forest en combinación con un vector de características basado en TF-IDF para analizar una colección de 3000 datos de texto. La particularidad de TF-IDF radica en su capacidad para asignar ponderaciones a las palabras según su frecuencia de aparición en las reseñas, lo que facilita la captura más precisa de la importancia real de cada palabra en el texto. El algoritmo construye un conjunto de árboles de decisión en los cuales otorga relevancia a determinados valores, en este caso, las palabras, con el propósito de determinar a que ODS pertenece."
      ],
      "metadata": {
        "id": "SUHqPWc1pL8D"
      }
    },
    {
      "cell_type": "code",
      "source": [
        "tfidf_model = RandomForestClassifier(random_state = 3)"
      ],
      "metadata": {
        "id": "y63mDoneqFYe"
      },
      "execution_count": 115,
      "outputs": []
    },
    {
      "cell_type": "code",
      "source": [
        "tfidf_model.fit(X_tfidf, y_train)"
      ],
      "metadata": {
        "colab": {
          "base_uri": "https://localhost:8080/",
          "height": 75
        },
        "id": "dJB40kqKqPRj",
        "outputId": "975cd526-ed67-4c6e-b175-3351b2bf1be8"
      },
      "execution_count": 116,
      "outputs": [
        {
          "output_type": "execute_result",
          "data": {
            "text/plain": [
              "RandomForestClassifier(random_state=3)"
            ],
            "text/html": [
              "<style>#sk-container-id-6 {color: black;background-color: white;}#sk-container-id-6 pre{padding: 0;}#sk-container-id-6 div.sk-toggleable {background-color: white;}#sk-container-id-6 label.sk-toggleable__label {cursor: pointer;display: block;width: 100%;margin-bottom: 0;padding: 0.3em;box-sizing: border-box;text-align: center;}#sk-container-id-6 label.sk-toggleable__label-arrow:before {content: \"▸\";float: left;margin-right: 0.25em;color: #696969;}#sk-container-id-6 label.sk-toggleable__label-arrow:hover:before {color: black;}#sk-container-id-6 div.sk-estimator:hover label.sk-toggleable__label-arrow:before {color: black;}#sk-container-id-6 div.sk-toggleable__content {max-height: 0;max-width: 0;overflow: hidden;text-align: left;background-color: #f0f8ff;}#sk-container-id-6 div.sk-toggleable__content pre {margin: 0.2em;color: black;border-radius: 0.25em;background-color: #f0f8ff;}#sk-container-id-6 input.sk-toggleable__control:checked~div.sk-toggleable__content {max-height: 200px;max-width: 100%;overflow: auto;}#sk-container-id-6 input.sk-toggleable__control:checked~label.sk-toggleable__label-arrow:before {content: \"▾\";}#sk-container-id-6 div.sk-estimator input.sk-toggleable__control:checked~label.sk-toggleable__label {background-color: #d4ebff;}#sk-container-id-6 div.sk-label input.sk-toggleable__control:checked~label.sk-toggleable__label {background-color: #d4ebff;}#sk-container-id-6 input.sk-hidden--visually {border: 0;clip: rect(1px 1px 1px 1px);clip: rect(1px, 1px, 1px, 1px);height: 1px;margin: -1px;overflow: hidden;padding: 0;position: absolute;width: 1px;}#sk-container-id-6 div.sk-estimator {font-family: monospace;background-color: #f0f8ff;border: 1px dotted black;border-radius: 0.25em;box-sizing: border-box;margin-bottom: 0.5em;}#sk-container-id-6 div.sk-estimator:hover {background-color: #d4ebff;}#sk-container-id-6 div.sk-parallel-item::after {content: \"\";width: 100%;border-bottom: 1px solid gray;flex-grow: 1;}#sk-container-id-6 div.sk-label:hover label.sk-toggleable__label {background-color: #d4ebff;}#sk-container-id-6 div.sk-serial::before {content: \"\";position: absolute;border-left: 1px solid gray;box-sizing: border-box;top: 0;bottom: 0;left: 50%;z-index: 0;}#sk-container-id-6 div.sk-serial {display: flex;flex-direction: column;align-items: center;background-color: white;padding-right: 0.2em;padding-left: 0.2em;position: relative;}#sk-container-id-6 div.sk-item {position: relative;z-index: 1;}#sk-container-id-6 div.sk-parallel {display: flex;align-items: stretch;justify-content: center;background-color: white;position: relative;}#sk-container-id-6 div.sk-item::before, #sk-container-id-6 div.sk-parallel-item::before {content: \"\";position: absolute;border-left: 1px solid gray;box-sizing: border-box;top: 0;bottom: 0;left: 50%;z-index: -1;}#sk-container-id-6 div.sk-parallel-item {display: flex;flex-direction: column;z-index: 1;position: relative;background-color: white;}#sk-container-id-6 div.sk-parallel-item:first-child::after {align-self: flex-end;width: 50%;}#sk-container-id-6 div.sk-parallel-item:last-child::after {align-self: flex-start;width: 50%;}#sk-container-id-6 div.sk-parallel-item:only-child::after {width: 0;}#sk-container-id-6 div.sk-dashed-wrapped {border: 1px dashed gray;margin: 0 0.4em 0.5em 0.4em;box-sizing: border-box;padding-bottom: 0.4em;background-color: white;}#sk-container-id-6 div.sk-label label {font-family: monospace;font-weight: bold;display: inline-block;line-height: 1.2em;}#sk-container-id-6 div.sk-label-container {text-align: center;}#sk-container-id-6 div.sk-container {/* jupyter's `normalize.less` sets `[hidden] { display: none; }` but bootstrap.min.css set `[hidden] { display: none !important; }` so we also need the `!important` here to be able to override the default hidden behavior on the sphinx rendered scikit-learn.org. See: https://github.com/scikit-learn/scikit-learn/issues/21755 */display: inline-block !important;position: relative;}#sk-container-id-6 div.sk-text-repr-fallback {display: none;}</style><div id=\"sk-container-id-6\" class=\"sk-top-container\"><div class=\"sk-text-repr-fallback\"><pre>RandomForestClassifier(random_state=3)</pre><b>In a Jupyter environment, please rerun this cell to show the HTML representation or trust the notebook. <br />On GitHub, the HTML representation is unable to render, please try loading this page with nbviewer.org.</b></div><div class=\"sk-container\" hidden><div class=\"sk-item\"><div class=\"sk-estimator sk-toggleable\"><input class=\"sk-toggleable__control sk-hidden--visually\" id=\"sk-estimator-id-6\" type=\"checkbox\" checked><label for=\"sk-estimator-id-6\" class=\"sk-toggleable__label sk-toggleable__label-arrow\">RandomForestClassifier</label><div class=\"sk-toggleable__content\"><pre>RandomForestClassifier(random_state=3)</pre></div></div></div></div></div>"
            ]
          },
          "metadata": {},
          "execution_count": 116
        }
      ]
    },
    {
      "cell_type": "code",
      "source": [
        "pd.Series(tfidf_model.feature_importances_, index = tfidf.vocabulary_).sort_values().tail(17).plot.barh(figsize = (15, 10))"
      ],
      "metadata": {
        "colab": {
          "base_uri": "https://localhost:8080/",
          "height": 630
        },
        "id": "QRoPWpTYqTLD",
        "outputId": "80023336-975d-4d8d-b31a-bbc813bc77f8"
      },
      "execution_count": 117,
      "outputs": [
        {
          "output_type": "execute_result",
          "data": {
            "text/plain": [
              "<Axes: >"
            ]
          },
          "metadata": {},
          "execution_count": 117
        },
        {
          "output_type": "display_data",
          "data": {
            "text/plain": [
              "<Figure size 1500x1000 with 1 Axes>"
            ],
            "image/png": "[encoded data removed]"
          },
          "metadata": {}
        }
      ]
    },
    {
      "cell_type": "code",
      "source": [
        "tfidf_estimators = tfidf_model.estimators_\n",
        "print('Numero de árboles:', len(tfidf_estimators))\n",
        "print('Profundidad de los árboles:', np.mean([tree.get_depth() for tree in tfidf_estimators]))"
      ],
      "metadata": {
        "colab": {
          "base_uri": "https://localhost:8080/"
        },
        "id": "uejrqnk4qZ9L",
        "outputId": "448b56f7-93c1-46d2-ca4f-b5d15aea972a"
      },
      "execution_count": 118,
      "outputs": [
        {
          "output_type": "stream",
          "name": "stdout",
          "text": [
            "Numero de árboles: 100\n",
            "Profundidad de los árboles: 86.24\n"
          ]
        }
      ]
    },
    {
      "cell_type": "code",
      "source": [
        "y_train_tfidf_predict = tfidf_model.predict(X_tfidf)\n",
        "y_test_tfidf_predict = tfidf_model.predict(tfidf.transform(X_test))"
      ],
      "metadata": {
        "id": "udub1NF_rTHQ"
      },
      "execution_count": 119,
      "outputs": []
    },
    {
      "cell_type": "code",
      "source": [
        "ConfusionMatrixDisplay.from_predictions(y_train, y_train_tfidf_predict)"
      ],
      "metadata": {
        "colab": {
          "base_uri": "https://localhost:8080/",
          "height": 472
        },
        "id": "vy6FBoWqrVun",
        "outputId": "0edcace7-d935-4d06-bfc9-5a004f1b3f1b"
      },
      "execution_count": 120,
      "outputs": [
        {
          "output_type": "execute_result",
          "data": {
            "text/plain": [
              "<sklearn.metrics._plot.confusion_matrix.ConfusionMatrixDisplay at 0x7fc6da762fb0>"
            ]
          },
          "metadata": {},
          "execution_count": 120
        },
        {
          "output_type": "display_data",
          "data": {
            "text/plain": [
              "<Figure size 640x480 with 2 Axes>"
            ],
            "image/png": "[encoded data removed]"
          },
          "metadata": {}
        }
      ]
    },
    {
      "cell_type": "code",
      "source": [
        "ConfusionMatrixDisplay.from_predictions(y_test, y_test_tfidf_predict)"
      ],
      "metadata": {
        "colab": {
          "base_uri": "https://localhost:8080/",
          "height": 472
        },
        "id": "uw8ACGEurYhE",
        "outputId": "cc50cd6e-ad21-4041-ec67-c7b69a51ed87"
      },
      "execution_count": 121,
      "outputs": [
        {
          "output_type": "execute_result",
          "data": {
            "text/plain": [
              "<sklearn.metrics._plot.confusion_matrix.ConfusionMatrixDisplay at 0x7fc6da5dfa90>"
            ]
          },
          "metadata": {},
          "execution_count": 121
        },
        {
          "output_type": "display_data",
          "data": {
            "text/plain": [
              "<Figure size 640x480 with 2 Axes>"
            ],
            "image/png": "[encoded data removed]"
          },
          "metadata": {}
        }
      ]
    },
    {
      "cell_type": "code",
      "source": [
        "# Para casos no binarios, es común calcular las métricas para cada clase\n",
        "print('Precision:', precision_score(y_train, y_train_tfidf_predict, average = None))\n",
        "print('Recall:', recall_score(y_train, y_train_tfidf_predict, average = None))\n",
        "print('F1:', f1_score(y_train, y_train_tfidf_predict, average = None))"
      ],
      "metadata": {
        "colab": {
          "base_uri": "https://localhost:8080/"
        },
        "id": "dt35j6gQreR0",
        "outputId": "06244120-c82a-4dc3-81e3-554070b93dbc"
      },
      "execution_count": 122,
      "outputs": [
        {
          "output_type": "stream",
          "name": "stdout",
          "text": [
            "Precision: [1. 1. 1.]\n",
            "Recall: [1. 1. 1.]\n",
            "F1: [1. 1. 1.]\n"
          ]
        }
      ]
    },
    {
      "cell_type": "code",
      "source": [
        "# Para casos no binarios, es común calcular las métricas para cada clase\n",
        "print('Precision:', precision_score(y_test, y_test_tfidf_predict, average = None))\n",
        "print('Recall:', recall_score(y_test, y_test_tfidf_predict, average = None))\n",
        "print('F1:', f1_score(y_test, y_test_tfidf_predict, average = None))"
      ],
      "metadata": {
        "colab": {
          "base_uri": "https://localhost:8080/"
        },
        "id": "KnYjjNe8rjx2",
        "outputId": "ae9dc11d-9c67-46dd-96bb-1d001227d910"
      },
      "execution_count": 123,
      "outputs": [
        {
          "output_type": "stream",
          "name": "stdout",
          "text": [
            "Precision: [0.98979592 0.97512438 0.98522167]\n",
            "Recall: [0.97 0.98 1.  ]\n",
            "F1: [0.97979798 0.97755611 0.99255583]\n"
          ]
        }
      ]
    },
    {
      "cell_type": "markdown",
      "source": [
        "##### Conclusiones\n",
        "\n",
        "Los resultados obtenidos al implementar el algoritmo clasificador Random Forest utilizando TF-IDF para la clasificación de la variable objetivo ODS en tres categorías diferentes son alentadores. Las métricas de precisión, recall y puntuación F1, con valores cercanos al 98%, indican que el modelo es eficaz en la clasificación de las distintas categorías de ODS. La alta precisión sugiere que la mayoría de las predicciones son correctas en sus respectivas categorías, y el recall muestra que el modelo es capaz de capturar la mayoría de las instancias de cada categoría. En general, estos resultados indican que el modelo es robusto y adecuado para la clasificación de las categorías de ODS en el conjunto de datos. Sin embargo, hay que contemplar la posibilidad de que se presente un problema de overfitting y por ello es importante evaluarlo y probarlo a mayor escala."
      ],
      "metadata": {
        "id": "6KYS8SiAsIjz"
      }
    },
    {
      "cell_type": "markdown",
      "source": [
        "###Modelo Navie Bayes"
      ],
      "metadata": {
        "id": "vOnCPQrE6Ya9"
      }
    },
    {
      "cell_type": "markdown",
      "source": [
        "es un clasificador basado en el modelo de Bayes ingenuo multinomial que se utiliza con frecuencia en tareas de clasificación de texto en NLP, para la clasificacion de texto NLP se debe de utilizar Vecotrizar con TF-IDF para aprovechar el poder de los algoritmos de aprendizaje automático."
      ],
      "metadata": {
        "id": "jnZwTsIL_USq"
      }
    },
    {
      "cell_type": "code",
      "source": [
        "nb_model = MultinomialNB()\n",
        "nb_model.fit(X_tfidf, y_train)"
      ],
      "metadata": {
        "colab": {
          "base_uri": "https://localhost:8080/",
          "height": 75
        },
        "id": "nFtPlFSe5k84",
        "outputId": "1807e095-f445-483d-b9ab-6306ac2dedce"
      },
      "execution_count": 124,
      "outputs": [
        {
          "output_type": "execute_result",
          "data": {
            "text/plain": [
              "MultinomialNB()"
            ],
            "text/html": [
              "<style>#sk-container-id-7 {color: black;background-color: white;}#sk-container-id-7 pre{padding: 0;}#sk-container-id-7 div.sk-toggleable {background-color: white;}#sk-container-id-7 label.sk-toggleable__label {cursor: pointer;display: block;width: 100%;margin-bottom: 0;padding: 0.3em;box-sizing: border-box;text-align: center;}#sk-container-id-7 label.sk-toggleable__label-arrow:before {content: \"▸\";float: left;margin-right: 0.25em;color: #696969;}#sk-container-id-7 label.sk-toggleable__label-arrow:hover:before {color: black;}#sk-container-id-7 div.sk-estimator:hover label.sk-toggleable__label-arrow:before {color: black;}#sk-container-id-7 div.sk-toggleable__content {max-height: 0;max-width: 0;overflow: hidden;text-align: left;background-color: #f0f8ff;}#sk-container-id-7 div.sk-toggleable__content pre {margin: 0.2em;color: black;border-radius: 0.25em;background-color: #f0f8ff;}#sk-container-id-7 input.sk-toggleable__control:checked~div.sk-toggleable__content {max-height: 200px;max-width: 100%;overflow: auto;}#sk-container-id-7 input.sk-toggleable__control:checked~label.sk-toggleable__label-arrow:before {content: \"▾\";}#sk-container-id-7 div.sk-estimator input.sk-toggleable__control:checked~label.sk-toggleable__label {background-color: #d4ebff;}#sk-container-id-7 div.sk-label input.sk-toggleable__control:checked~label.sk-toggleable__label {background-color: #d4ebff;}#sk-container-id-7 input.sk-hidden--visually {border: 0;clip: rect(1px 1px 1px 1px);clip: rect(1px, 1px, 1px, 1px);height: 1px;margin: -1px;overflow: hidden;padding: 0;position: absolute;width: 1px;}#sk-container-id-7 div.sk-estimator {font-family: monospace;background-color: #f0f8ff;border: 1px dotted black;border-radius: 0.25em;box-sizing: border-box;margin-bottom: 0.5em;}#sk-container-id-7 div.sk-estimator:hover {background-color: #d4ebff;}#sk-container-id-7 div.sk-parallel-item::after {content: \"\";width: 100%;border-bottom: 1px solid gray;flex-grow: 1;}#sk-container-id-7 div.sk-label:hover label.sk-toggleable__label {background-color: #d4ebff;}#sk-container-id-7 div.sk-serial::before {content: \"\";position: absolute;border-left: 1px solid gray;box-sizing: border-box;top: 0;bottom: 0;left: 50%;z-index: 0;}#sk-container-id-7 div.sk-serial {display: flex;flex-direction: column;align-items: center;background-color: white;padding-right: 0.2em;padding-left: 0.2em;position: relative;}#sk-container-id-7 div.sk-item {position: relative;z-index: 1;}#sk-container-id-7 div.sk-parallel {display: flex;align-items: stretch;justify-content: center;background-color: white;position: relative;}#sk-container-id-7 div.sk-item::before, #sk-container-id-7 div.sk-parallel-item::before {content: \"\";position: absolute;border-left: 1px solid gray;box-sizing: border-box;top: 0;bottom: 0;left: 50%;z-index: -1;}#sk-container-id-7 div.sk-parallel-item {display: flex;flex-direction: column;z-index: 1;position: relative;background-color: white;}#sk-container-id-7 div.sk-parallel-item:first-child::after {align-self: flex-end;width: 50%;}#sk-container-id-7 div.sk-parallel-item:last-child::after {align-self: flex-start;width: 50%;}#sk-container-id-7 div.sk-parallel-item:only-child::after {width: 0;}#sk-container-id-7 div.sk-dashed-wrapped {border: 1px dashed gray;margin: 0 0.4em 0.5em 0.4em;box-sizing: border-box;padding-bottom: 0.4em;background-color: white;}#sk-container-id-7 div.sk-label label {font-family: monospace;font-weight: bold;display: inline-block;line-height: 1.2em;}#sk-container-id-7 div.sk-label-container {text-align: center;}#sk-container-id-7 div.sk-container {/* jupyter's `normalize.less` sets `[hidden] { display: none; }` but bootstrap.min.css set `[hidden] { display: none !important; }` so we also need the `!important` here to be able to override the default hidden behavior on the sphinx rendered scikit-learn.org. See: https://github.com/scikit-learn/scikit-learn/issues/21755 */display: inline-block !important;position: relative;}#sk-container-id-7 div.sk-text-repr-fallback {display: none;}</style><div id=\"sk-container-id-7\" class=\"sk-top-container\"><div class=\"sk-text-repr-fallback\"><pre>MultinomialNB()</pre><b>In a Jupyter environment, please rerun this cell to show the HTML representation or trust the notebook. <br />On GitHub, the HTML representation is unable to render, please try loading this page with nbviewer.org.</b></div><div class=\"sk-container\" hidden><div class=\"sk-item\"><div class=\"sk-estimator sk-toggleable\"><input class=\"sk-toggleable__control sk-hidden--visually\" id=\"sk-estimator-id-7\" type=\"checkbox\" checked><label for=\"sk-estimator-id-7\" class=\"sk-toggleable__label sk-toggleable__label-arrow\">MultinomialNB</label><div class=\"sk-toggleable__content\"><pre>MultinomialNB()</pre></div></div></div></div></div>"
            ]
          },
          "metadata": {},
          "execution_count": 124
        }
      ]
    },
    {
      "cell_type": "code",
      "source": [
        "feature_importances = np.exp(nb_model.feature_log_prob_)[1,:] - np.exp(nb_model.feature_log_prob_)[0,:]"
      ],
      "metadata": {
        "id": "k5Gf1VoG7rPt"
      },
      "execution_count": 125,
      "outputs": []
    },
    {
      "cell_type": "code",
      "source": [
        "pd.Series(nb_model.feature_log_prob_[1], index = tfidf.vocabulary_).sort_values().tail(20).plot.barh(figsize=(15,10))"
      ],
      "metadata": {
        "colab": {
          "base_uri": "https://localhost:8080/",
          "height": 630
        },
        "id": "qydGJxA56vzV",
        "outputId": "0476e8e3-b54b-4799-a638-61418e1e45be"
      },
      "execution_count": 126,
      "outputs": [
        {
          "output_type": "execute_result",
          "data": {
            "text/plain": [
              "<Axes: >"
            ]
          },
          "metadata": {},
          "execution_count": 126
        },
        {
          "output_type": "display_data",
          "data": {
            "text/plain": [
              "<Figure size 1500x1000 with 1 Axes>"
            ],
            "image/png": "[encoded data removed]"
          },
          "metadata": {}
        }
      ]
    },
    {
      "cell_type": "code",
      "source": [
        "y_train_nb_predict = nb_model.predict(X_tfidf)\n",
        "y_test_nb_predict = nb_model.predict(tfidf.transform(X_test))"
      ],
      "metadata": {
        "id": "sehtT3ib8dqg"
      },
      "execution_count": 127,
      "outputs": []
    },
    {
      "cell_type": "code",
      "source": [
        "print('Number of classes:', len(nb_model.classes_))\n",
        "print('Class labels:', nb_model.classes_)\n",
        "print('Number of features:', len(nb_model.feature_log_prob_[0]))\n",
        "print('Number of non-zero features:', np.count_nonzero(nb_model.feature_log_prob_))\n",
        "print('Prior probabilities:', nb_model.class_log_prior_)\n",
        "print('Feature log probabilities:', nb_model.feature_log_prob_)"
      ],
      "metadata": {
        "colab": {
          "base_uri": "https://localhost:8080/"
        },
        "id": "CAsczTEO8naF",
        "outputId": "a3c85c89-fcff-407e-c749-cb63fbe481b1"
      },
      "execution_count": 128,
      "outputs": [
        {
          "output_type": "stream",
          "name": "stdout",
          "text": [
            "Number of classes: 3\n",
            "Class labels: [ 6  7 16]\n",
            "Number of features: 12701\n",
            "Number of non-zero features: 38103\n",
            "Prior probabilities: [-1.09861229 -1.09861229 -1.09861229]\n",
            "Feature log probabilities: [[-9.50920484 -9.0349911  -6.90536036 ... -7.98156431 -9.79596846\n",
            "  -9.79596846]\n",
            " [-9.79740002 -8.8429109  -6.68228337 ... -8.75594365 -9.79740002\n",
            "  -9.45476623]\n",
            " [-9.81524357 -9.81524357 -9.54275907 ... -7.65624456 -9.64802703\n",
            "  -9.81524357]]\n"
          ]
        }
      ]
    },
    {
      "cell_type": "code",
      "source": [
        "ConfusionMatrixDisplay.from_predictions(y_train, y_train_nb_predict)"
      ],
      "metadata": {
        "colab": {
          "base_uri": "https://localhost:8080/",
          "height": 472
        },
        "id": "ljTL0_IV81oS",
        "outputId": "3f801253-749e-42ee-f89b-f4603a2d724f"
      },
      "execution_count": 129,
      "outputs": [
        {
          "output_type": "execute_result",
          "data": {
            "text/plain": [
              "<sklearn.metrics._plot.confusion_matrix.ConfusionMatrixDisplay at 0x7fc6da53b130>"
            ]
          },
          "metadata": {},
          "execution_count": 129
        },
        {
          "output_type": "display_data",
          "data": {
            "text/plain": [
              "<Figure size 640x480 with 2 Axes>"
            ],
            "image/png": "[encoded data removed]"
          },
          "metadata": {}
        }
      ]
    },
    {
      "cell_type": "code",
      "source": [
        "ConfusionMatrixDisplay.from_predictions(y_test, y_test_nb_predict)"
      ],
      "metadata": {
        "colab": {
          "base_uri": "https://localhost:8080/",
          "height": 466
        },
        "id": "BDZ53_Kb875U",
        "outputId": "f338c53d-48fc-4530-f00c-f34101ab3ad4"
      },
      "execution_count": 130,
      "outputs": [
        {
          "output_type": "execute_result",
          "data": {
            "text/plain": [
              "<sklearn.metrics._plot.confusion_matrix.ConfusionMatrixDisplay at 0x7fc6da3e95d0>"
            ]
          },
          "metadata": {},
          "execution_count": 130
        },
        {
          "output_type": "display_data",
          "data": {
            "text/plain": [
              "<Figure size 640x480 with 2 Axes>"
            ],
            "image/png": "[encoded data removed]"
          },
          "metadata": {}
        }
      ]
    },
    {
      "cell_type": "code",
      "source": [
        "print('Precision:', precision_score(y_train, y_train_nb_predict, average = None))\n",
        "print('Recall:', recall_score(y_train, y_train_nb_predict, average = None))\n",
        "print('F1:', f1_score(y_train, y_train_nb_predict, average=None))"
      ],
      "metadata": {
        "colab": {
          "base_uri": "https://localhost:8080/"
        },
        "id": "cSji0du-9LRV",
        "outputId": "17bd684d-dc59-43a7-f846-31cab37434b1"
      },
      "execution_count": 131,
      "outputs": [
        {
          "output_type": "stream",
          "name": "stdout",
          "text": [
            "Precision: [0.99748111 0.99129353 0.99750623]\n",
            "Recall: [0.99    0.99625 1.     ]\n",
            "F1: [0.99372647 0.99376559 0.99875156]\n"
          ]
        }
      ]
    },
    {
      "cell_type": "code",
      "source": [
        "print('Precision:', precision_score(y_test, y_test_nb_predict, average = None))\n",
        "print('Recall:', recall_score(y_test, y_test_nb_predict, average = None))\n",
        "print('F1:', f1_score(y_test, y_test_nb_predict, average=None))"
      ],
      "metadata": {
        "colab": {
          "base_uri": "https://localhost:8080/"
        },
        "id": "2lbaPxp39b9E",
        "outputId": "9c5f80ec-e191-4ba4-c90a-78f99c56ce8c"
      },
      "execution_count": 132,
      "outputs": [
        {
          "output_type": "stream",
          "name": "stdout",
          "text": [
            "Precision: [0.98461538 0.96568627 0.99004975]\n",
            "Recall: [0.96  0.985 0.995]\n",
            "F1: [0.9721519  0.97524752 0.9925187 ]\n"
          ]
        }
      ]
    },
    {
      "cell_type": "markdown",
      "source": [
        "##### Conclusiones\n",
        "Los resultados obtenidos al realizar la implementacion de del algoritmo multinomial de naive bayes utilizando TF-IDF como vectorizacion se obtuvo 3 clasificaciones de los datos para los 3 ODS objetivos del proyecto. al analisar los resultados obtenidos en el test se puede observar que las metricas de Precision, Recall y F1 estan por encima del 96%, estos valores indican que este algoritmo de claisficacion de texto resulta ser robusto y solido para poder realizar predicciones sobre los ODS."
      ],
      "metadata": {
        "id": "2ZV04M-wA4pe"
      }
    },
    {
      "cell_type": "markdown",
      "source": [
        "### Gradient BOOsting"
      ],
      "metadata": {
        "id": "tzLVNiAF9pmX"
      }
    },
    {
      "cell_type": "markdown",
      "source": [
        "El gradient boosting construye modelos predictivos de forma iterativa, en donde cada modelo corrige los errores del anterior. En el caso de este proyecto, el algoritmo ajusta continuamente a las instancias mal clasificadas, por lo que se crea un modelo final fuerte y preciso."
      ],
      "metadata": {
        "id": "p2af3MMs9_hE"
      }
    },
    {
      "cell_type": "code",
      "source": [
        "gb_model = GradientBoostingClassifier(n_estimators=100, max_depth=3, random_state=42)"
      ],
      "metadata": {
        "id": "FMC9M4WE9ug_"
      },
      "execution_count": 133,
      "outputs": []
    },
    {
      "cell_type": "code",
      "source": [
        "gb_model.fit(X_tfidf, y_train)"
      ],
      "metadata": {
        "colab": {
          "base_uri": "https://localhost:8080/",
          "height": 75
        },
        "id": "7qopwWzS96Eh",
        "outputId": "564e44c1-3b95-474c-c329-b397e418c3cb"
      },
      "execution_count": 134,
      "outputs": [
        {
          "output_type": "execute_result",
          "data": {
            "text/plain": [
              "GradientBoostingClassifier(random_state=42)"
            ],
            "text/html": [
              "<style>#sk-container-id-8 {color: black;background-color: white;}#sk-container-id-8 pre{padding: 0;}#sk-container-id-8 div.sk-toggleable {background-color: white;}#sk-container-id-8 label.sk-toggleable__label {cursor: pointer;display: block;width: 100%;margin-bottom: 0;padding: 0.3em;box-sizing: border-box;text-align: center;}#sk-container-id-8 label.sk-toggleable__label-arrow:before {content: \"▸\";float: left;margin-right: 0.25em;color: #696969;}#sk-container-id-8 label.sk-toggleable__label-arrow:hover:before {color: black;}#sk-container-id-8 div.sk-estimator:hover label.sk-toggleable__label-arrow:before {color: black;}#sk-container-id-8 div.sk-toggleable__content {max-height: 0;max-width: 0;overflow: hidden;text-align: left;background-color: #f0f8ff;}#sk-container-id-8 div.sk-toggleable__content pre {margin: 0.2em;color: black;border-radius: 0.25em;background-color: #f0f8ff;}#sk-container-id-8 input.sk-toggleable__control:checked~div.sk-toggleable__content {max-height: 200px;max-width: 100%;overflow: auto;}#sk-container-id-8 input.sk-toggleable__control:checked~label.sk-toggleable__label-arrow:before {content: \"▾\";}#sk-container-id-8 div.sk-estimator input.sk-toggleable__control:checked~label.sk-toggleable__label {background-color: #d4ebff;}#sk-container-id-8 div.sk-label input.sk-toggleable__control:checked~label.sk-toggleable__label {background-color: #d4ebff;}#sk-container-id-8 input.sk-hidden--visually {border: 0;clip: rect(1px 1px 1px 1px);clip: rect(1px, 1px, 1px, 1px);height: 1px;margin: -1px;overflow: hidden;padding: 0;position: absolute;width: 1px;}#sk-container-id-8 div.sk-estimator {font-family: monospace;background-color: #f0f8ff;border: 1px dotted black;border-radius: 0.25em;box-sizing: border-box;margin-bottom: 0.5em;}#sk-container-id-8 div.sk-estimator:hover {background-color: #d4ebff;}#sk-container-id-8 div.sk-parallel-item::after {content: \"\";width: 100%;border-bottom: 1px solid gray;flex-grow: 1;}#sk-container-id-8 div.sk-label:hover label.sk-toggleable__label {background-color: #d4ebff;}#sk-container-id-8 div.sk-serial::before {content: \"\";position: absolute;border-left: 1px solid gray;box-sizing: border-box;top: 0;bottom: 0;left: 50%;z-index: 0;}#sk-container-id-8 div.sk-serial {display: flex;flex-direction: column;align-items: center;background-color: white;padding-right: 0.2em;padding-left: 0.2em;position: relative;}#sk-container-id-8 div.sk-item {position: relative;z-index: 1;}#sk-container-id-8 div.sk-parallel {display: flex;align-items: stretch;justify-content: center;background-color: white;position: relative;}#sk-container-id-8 div.sk-item::before, #sk-container-id-8 div.sk-parallel-item::before {content: \"\";position: absolute;border-left: 1px solid gray;box-sizing: border-box;top: 0;bottom: 0;left: 50%;z-index: -1;}#sk-container-id-8 div.sk-parallel-item {display: flex;flex-direction: column;z-index: 1;position: relative;background-color: white;}#sk-container-id-8 div.sk-parallel-item:first-child::after {align-self: flex-end;width: 50%;}#sk-container-id-8 div.sk-parallel-item:last-child::after {align-self: flex-start;width: 50%;}#sk-container-id-8 div.sk-parallel-item:only-child::after {width: 0;}#sk-container-id-8 div.sk-dashed-wrapped {border: 1px dashed gray;margin: 0 0.4em 0.5em 0.4em;box-sizing: border-box;padding-bottom: 0.4em;background-color: white;}#sk-container-id-8 div.sk-label label {font-family: monospace;font-weight: bold;display: inline-block;line-height: 1.2em;}#sk-container-id-8 div.sk-label-container {text-align: center;}#sk-container-id-8 div.sk-container {/* jupyter's `normalize.less` sets `[hidden] { display: none; }` but bootstrap.min.css set `[hidden] { display: none !important; }` so we also need the `!important` here to be able to override the default hidden behavior on the sphinx rendered scikit-learn.org. See: https://github.com/scikit-learn/scikit-learn/issues/21755 */display: inline-block !important;position: relative;}#sk-container-id-8 div.sk-text-repr-fallback {display: none;}</style><div id=\"sk-container-id-8\" class=\"sk-top-container\"><div class=\"sk-text-repr-fallback\"><pre>GradientBoostingClassifier(random_state=42)</pre><b>In a Jupyter environment, please rerun this cell to show the HTML representation or trust the notebook. <br />On GitHub, the HTML representation is unable to render, please try loading this page with nbviewer.org.</b></div><div class=\"sk-container\" hidden><div class=\"sk-item\"><div class=\"sk-estimator sk-toggleable\"><input class=\"sk-toggleable__control sk-hidden--visually\" id=\"sk-estimator-id-8\" type=\"checkbox\" checked><label for=\"sk-estimator-id-8\" class=\"sk-toggleable__label sk-toggleable__label-arrow\">GradientBoostingClassifier</label><div class=\"sk-toggleable__content\"><pre>GradientBoostingClassifier(random_state=42)</pre></div></div></div></div></div>"
            ]
          },
          "metadata": {},
          "execution_count": 134
        }
      ]
    },
    {
      "cell_type": "code",
      "source": [
        "pd.Series(gb_model.feature_importances_, index = tfidf.vocabulary_).sort_values().tail(20).plot.barh(figsize=(15,10))"
      ],
      "metadata": {
        "colab": {
          "base_uri": "https://localhost:8080/",
          "height": 628
        },
        "id": "oV385MWe-Dp3",
        "outputId": "052568b9-9051-4a18-cda6-65369da58144"
      },
      "execution_count": 135,
      "outputs": [
        {
          "output_type": "execute_result",
          "data": {
            "text/plain": [
              "<Axes: >"
            ]
          },
          "metadata": {},
          "execution_count": 135
        },
        {
          "output_type": "display_data",
          "data": {
            "text/plain": [
              "<Figure size 1500x1000 with 1 Axes>"
            ],
            "image/png": "[encoded data removed]"
          },
          "metadata": {}
        }
      ]
    },
    {
      "cell_type": "code",
      "source": [
        "y_train_gb_predict = gb_model.predict(X_tfidf)\n",
        "y_test_gb_predict = gb_model.predict(tfidf.transform(X_test))"
      ],
      "metadata": {
        "id": "d16M-oLv-H02"
      },
      "execution_count": 136,
      "outputs": []
    },
    {
      "cell_type": "code",
      "source": [
        "ConfusionMatrixDisplay.from_predictions(y_train, y_train_gb_predict)"
      ],
      "metadata": {
        "colab": {
          "base_uri": "https://localhost:8080/",
          "height": 472
        },
        "id": "_XvVZzQy-KZ-",
        "outputId": "d9f96e92-f379-48e2-be10-14a7156d335a"
      },
      "execution_count": 137,
      "outputs": [
        {
          "output_type": "execute_result",
          "data": {
            "text/plain": [
              "<sklearn.metrics._plot.confusion_matrix.ConfusionMatrixDisplay at 0x7fc6da183b20>"
            ]
          },
          "metadata": {},
          "execution_count": 137
        },
        {
          "output_type": "display_data",
          "data": {
            "text/plain": [
              "<Figure size 640x480 with 2 Axes>"
            ],
            "image/png": "[encoded data removed]"
          },
          "metadata": {}
        }
      ]
    },
    {
      "cell_type": "code",
      "source": [
        "ConfusionMatrixDisplay.from_predictions(y_test, y_test_gb_predict)"
      ],
      "metadata": {
        "colab": {
          "base_uri": "https://localhost:8080/",
          "height": 466
        },
        "id": "Kb7sVHjo-Ms6",
        "outputId": "6749a11a-44cd-4e80-b980-f16e14b2c990"
      },
      "execution_count": 138,
      "outputs": [
        {
          "output_type": "execute_result",
          "data": {
            "text/plain": [
              "<sklearn.metrics._plot.confusion_matrix.ConfusionMatrixDisplay at 0x7fc6da2ea830>"
            ]
          },
          "metadata": {},
          "execution_count": 138
        },
        {
          "output_type": "display_data",
          "data": {
            "text/plain": [
              "<Figure size 640x480 with 2 Axes>"
            ],
            "image/png": "[encoded data removed]"
          },
          "metadata": {}
        }
      ]
    },
    {
      "cell_type": "code",
      "source": [
        "print('Precision:', precision_score(y_train, y_train_gb_predict, average = None))\n",
        "print('Recall:', recall_score(y_train, y_train_gb_predict, average = None))\n",
        "print('F1:', f1_score(y_train, y_train_gb_predict, average=None))"
      ],
      "metadata": {
        "colab": {
          "base_uri": "https://localhost:8080/"
        },
        "id": "XgBqTQDO-PMN",
        "outputId": "6457d386-ca1e-458b-f82c-2cb3cb996bec"
      },
      "execution_count": 139,
      "outputs": [
        {
          "output_type": "stream",
          "name": "stdout",
          "text": [
            "Precision: [1. 1. 1.]\n",
            "Recall: [1. 1. 1.]\n",
            "F1: [1. 1. 1.]\n"
          ]
        }
      ]
    },
    {
      "cell_type": "code",
      "source": [
        "print('Precision:', precision_score(y_test, y_test_gb_predict, average = None))\n",
        "print('Recall:', recall_score(y_test, y_test_gb_predict, average = None))\n",
        "print('F1:', f1_score(y_test, y_test_gb_predict, average=None))"
      ],
      "metadata": {
        "colab": {
          "base_uri": "https://localhost:8080/"
        },
        "id": "buGKRdsv-Ucq",
        "outputId": "34e9c939-e872-4cc8-81ff-c6e96db9aec0"
      },
      "execution_count": 140,
      "outputs": [
        {
          "output_type": "stream",
          "name": "stdout",
          "text": [
            "Precision: [0.97916667 0.94711538 0.985     ]\n",
            "Recall: [0.94  0.985 0.985]\n",
            "F1: [0.95918367 0.96568627 0.985     ]\n"
          ]
        }
      ]
    },
    {
      "cell_type": "markdown",
      "source": [
        "##### Conclusiones\n",
        "El algoritmo de Gradient Boosting demostró ser eficiente en la clasificación de textos. Las palabras más influyentes para determinar la clasificación fueron \"explorará\", \"doce\" y \"11.4\". A pesar de que solo 18 textos fueron mal clasificados en el conjunto de prueba, las métricas revelan una alta capacidad predictiva: con precisiones superiores al 94%, recalls superiores al 94.5% y puntuaciones F1 superiores al 95%. Esto indica que el modelo tiene un equilibrio sólido entre precisión y recall, y es robusto en su capacidad de clasificación."
      ],
      "metadata": {
        "id": "aF_yWwO_At2I"
      }
    },
    {
      "cell_type": "markdown",
      "source": [
        "###Prediccion de datos no clasificados"
      ],
      "metadata": {
        "id": "oEujK4EIEuio"
      }
    },
    {
      "cell_type": "markdown",
      "source": [
        "##### exportacion de modelo seleccionado\n"
      ],
      "metadata": {
        "id": "KKvUEsEUWwOS"
      }
    },
    {
      "cell_type": "code",
      "source": [
        "dump(tfidf_model,\"modelo_seleccionado.joblib\")"
      ],
      "metadata": {
        "colab": {
          "base_uri": "https://localhost:8080/"
        },
        "id": "R0J_SdUBDl8C",
        "outputId": "8d5f2510-973b-49d5-c550-0e3bc4af29c6"
      },
      "execution_count": 141,
      "outputs": [
        {
          "output_type": "execute_result",
          "data": {
            "text/plain": [
              "['modelo_seleccionado.joblib']"
            ]
          },
          "metadata": {},
          "execution_count": 141
        }
      ]
    },
    {
      "cell_type": "code",
      "source": [
        "pipeline_loaded = load('modelo_seleccionado.joblib')"
      ],
      "metadata": {
        "id": "f9K60T6vEK40"
      },
      "execution_count": 142,
      "outputs": []
    },
    {
      "cell_type": "code",
      "source": [
        "df_prediction = pd.read_csv(\"./SinEtiquetatest_cat_6716.csv\")\n",
        "df_prediction.to_csv('./SinEtiquetatest_cat_6716.csv', encoding='utf-8', index=False)"
      ],
      "metadata": {
        "id": "zP-I77WcEmny"
      },
      "execution_count": 143,
      "outputs": []
    },
    {
      "cell_type": "code",
      "source": [
        "df_prediction.sample(3)"
      ],
      "metadata": {
        "colab": {
          "base_uri": "https://localhost:8080/",
          "height": 386
        },
        "id": "Y7_lr5oPFYtH",
        "outputId": "27f62c67-50c2-4a95-eb21-bfc22e85e90a"
      },
      "execution_count": 144,
      "outputs": [
        {
          "output_type": "execute_result",
          "data": {
            "text/plain": [
              "                                                                                                                                                                                                                                                                                                                                                                                                                                                                                                                                                                                                                                                                                                                                                Textos_espanol  \\\n",
              "135  Las emisiones de gases de efecto invernadero (GEI) procedentes de la combustión de combustibles fósiles han sido la principal causa del calentamiento global antropogénico. El uso de la energía ha alcanzado una escala en la que se están traspasando los límites planetarios de una serie de procesos esenciales del sistema Tierra, incluso en términos de calentamiento global y pérdida de biodiversidad, lo que probablemente conducirá a un cambio medioambiental catastrófico (Rockstrom y otros, 2009). En 2005, los combustibles fósiles representaban el 85% de la combinación energética primaria mundial, mientras que la energía nuclear con bajas emisiones de carbono representaba el 6%, la hidroelectricidad el 3% y la biomasa el 4%.   \n",
              "487                                                               El apoyo a las energías renovables podría fomentar la innovación y la difusión de tecnologías de reducción de emisiones, más allá de los incentivos proporcionados por el EU ETS. Sin embargo, el análisis de la OCDE muestra que cuando existe un precio del carbono, la aplicación de otras herramientas de política, incluidos los subsidios y objetivos de energías renovables o biocombustibles, puede conducir a la superposición y socavar la rentabilidad (OCDE, 2009c). A pesar de la simplificación de los procedimientos administrativos y de permisos, éstos todavía se consideran el principal obstáculo para el desarrollo del sector de las energías renovables (IEA, 2009a).   \n",
              "63                                                                                                                                                                      En caso afirmativo, ¿cómo se asegura el Gobierno de que puede dar cabida a un aumento de la generación de electricidad basada en energías renovables? Además de reducir los costes de generación, los mercados mayoristas aumentan la flexibilidad de la red eléctrica y permiten una asignación más rentable de la generación de electricidad. En efecto, mientras que la generación de electricidad a partir de energías renovables está sujeta a fluctuaciones (incluida la dependencia de las condiciones meteorológicas y la hora del día), la demanda debe satisfacerse siempre.   \n",
              "\n",
              "     sdg  \n",
              "135  NaN  \n",
              "487  NaN  \n",
              "63   NaN  "
            ],
            "text/html": [
              "\n",
              "  <div id=\"df-767e905c-e15e-46e5-b49a-73c0bc141692\" class=\"colab-df-container\">\n",
              "    <div>\n",
              "<style scoped>\n",
              "    .dataframe tbody tr th:only-of-type {\n",
              "        vertical-align: middle;\n",
              "    }\n",
              "\n",
              "    .dataframe tbody tr th {\n",
              "        vertical-align: top;\n",
              "    }\n",
              "\n",
              "    .dataframe thead th {\n",
              "        text-align: right;\n",
              "    }\n",
              "</style>\n",
              "<table border=\"1\" class=\"dataframe\">\n",
              "  <thead>\n",
              "    <tr style=\"text-align: right;\">\n",
              "      <th></th>\n",
              "      <th>Textos_espanol</th>\n",
              "      <th>sdg</th>\n",
              "    </tr>\n",
              "  </thead>\n",
              "  <tbody>\n",
              "    <tr>\n",
              "      <th>135</th>\n",
              "      <td>Las emisiones de gases de efecto invernadero (GEI) procedentes de la combustión de combustibles fósiles han sido la principal causa del calentamiento global antropogénico. El uso de la energía ha alcanzado una escala en la que se están traspasando los límites planetarios de una serie de procesos esenciales del sistema Tierra, incluso en términos de calentamiento global y pérdida de biodiversidad, lo que probablemente conducirá a un cambio medioambiental catastrófico (Rockstrom y otros, 2009). En 2005, los combustibles fósiles representaban el 85% de la combinación energética primaria mundial, mientras que la energía nuclear con bajas emisiones de carbono representaba el 6%, la hidroelectricidad el 3% y la biomasa el 4%.</td>\n",
              "      <td>NaN</td>\n",
              "    </tr>\n",
              "    <tr>\n",
              "      <th>487</th>\n",
              "      <td>El apoyo a las energías renovables podría fomentar la innovación y la difusión de tecnologías de reducción de emisiones, más allá de los incentivos proporcionados por el EU ETS. Sin embargo, el análisis de la OCDE muestra que cuando existe un precio del carbono, la aplicación de otras herramientas de política, incluidos los subsidios y objetivos de energías renovables o biocombustibles, puede conducir a la superposición y socavar la rentabilidad (OCDE, 2009c). A pesar de la simplificación de los procedimientos administrativos y de permisos, éstos todavía se consideran el principal obstáculo para el desarrollo del sector de las energías renovables (IEA, 2009a).</td>\n",
              "      <td>NaN</td>\n",
              "    </tr>\n",
              "    <tr>\n",
              "      <th>63</th>\n",
              "      <td>En caso afirmativo, ¿cómo se asegura el Gobierno de que puede dar cabida a un aumento de la generación de electricidad basada en energías renovables? Además de reducir los costes de generación, los mercados mayoristas aumentan la flexibilidad de la red eléctrica y permiten una asignación más rentable de la generación de electricidad. En efecto, mientras que la generación de electricidad a partir de energías renovables está sujeta a fluctuaciones (incluida la dependencia de las condiciones meteorológicas y la hora del día), la demanda debe satisfacerse siempre.</td>\n",
              "      <td>NaN</td>\n",
              "    </tr>\n",
              "  </tbody>\n",
              "</table>\n",
              "</div>\n",
              "    <div class=\"colab-df-buttons\">\n",
              "\n",
              "  <div class=\"colab-df-container\">\n",
              "    <button class=\"colab-df-convert\" onclick=\"convertToInteractive('df-767e905c-e15e-46e5-b49a-73c0bc141692')\"\n",
              "            title=\"Convert this dataframe to an interactive table.\"\n",
              "            style=\"display:none;\">\n",
              "\n",
              "  <svg xmlns=\"http://www.w3.org/2000/svg\" height=\"24px\" viewBox=\"0 -960 960 960\">\n",
              "    <path d=\"M120-120v-720h720v720H120Zm60-500h600v-160H180v160Zm220 220h160v-160H400v160Zm0 220h160v-160H400v160ZM180-400h160v-160H180v160Zm440 0h160v-160H620v160ZM180-180h160v-160H180v160Zm440 0h160v-160H620v160Z\"/>\n",
              "  </svg>\n",
              "    </button>\n",
              "\n",
              "  <style>\n",
              "    .colab-df-container {\n",
              "      display:flex;\n",
              "      gap: 12px;\n",
              "    }\n",
              "\n",
              "    .colab-df-convert {\n",
              "      background-color: #E8F0FE;\n",
              "      border: none;\n",
              "      border-radius: 50%;\n",
              "      cursor: pointer;\n",
              "      display: none;\n",
              "      fill: #1967D2;\n",
              "      height: 32px;\n",
              "      padding: 0 0 0 0;\n",
              "      width: 32px;\n",
              "    }\n",
              "\n",
              "    .colab-df-convert:hover {\n",
              "      background-color: #E2EBFA;\n",
              "      box-shadow: 0px 1px 2px rgba(60, 64, 67, 0.3), 0px 1px 3px 1px rgba(60, 64, 67, 0.15);\n",
              "      fill: #174EA6;\n",
              "    }\n",
              "\n",
              "    .colab-df-buttons div {\n",
              "      margin-bottom: 4px;\n",
              "    }\n",
              "\n",
              "    [theme=dark] .colab-df-convert {\n",
              "      background-color: #3B4455;\n",
              "      fill: #D2E3FC;\n",
              "    }\n",
              "\n",
              "    [theme=dark] .colab-df-convert:hover {\n",
              "      background-color: #434B5C;\n",
              "      box-shadow: 0px 1px 3px 1px rgba(0, 0, 0, 0.15);\n",
              "      filter: drop-shadow(0px 1px 2px rgba(0, 0, 0, 0.3));\n",
              "      fill: #FFFFFF;\n",
              "    }\n",
              "  </style>\n",
              "\n",
              "    <script>\n",
              "      const buttonEl =\n",
              "        document.querySelector('#df-767e905c-e15e-46e5-b49a-73c0bc141692 button.colab-df-convert');\n",
              "      buttonEl.style.display =\n",
              "        google.colab.kernel.accessAllowed ? 'block' : 'none';\n",
              "\n",
              "      async function convertToInteractive(key) {\n",
              "        const element = document.querySelector('#df-767e905c-e15e-46e5-b49a-73c0bc141692');\n",
              "        const dataTable =\n",
              "          await google.colab.kernel.invokeFunction('convertToInteractive',\n",
              "                                                    [key], {});\n",
              "        if (!dataTable) return;\n",
              "\n",
              "        const docLinkHtml = 'Like what you see? Visit the ' +\n",
              "          '<a target=\"_blank\" href=https://colab.research.google.com/notebooks/data_table.ipynb>data table notebook</a>'\n",
              "          + ' to learn more about interactive tables.';\n",
              "        element.innerHTML = '';\n",
              "        dataTable['output_type'] = 'display_data';\n",
              "        await google.colab.output.renderOutput(dataTable, element);\n",
              "        const docLink = document.createElement('div');\n",
              "        docLink.innerHTML = docLinkHtml;\n",
              "        element.appendChild(docLink);\n",
              "      }\n",
              "    </script>\n",
              "  </div>\n",
              "\n",
              "\n",
              "<div id=\"df-a0c6f068-460a-4179-9356-95f830bc124b\">\n",
              "  <button class=\"colab-df-quickchart\" onclick=\"quickchart('df-a0c6f068-460a-4179-9356-95f830bc124b')\"\n",
              "            title=\"Suggest charts.\"\n",
              "            style=\"display:none;\">\n",
              "\n",
              "<svg xmlns=\"http://www.w3.org/2000/svg\" height=\"24px\"viewBox=\"0 0 24 24\"\n",
              "     width=\"24px\">\n",
              "    <g>\n",
              "        <path d=\"M19 3H5c-1.1 0-2 .9-2 2v14c0 1.1.9 2 2 2h14c1.1 0 2-.9 2-2V5c0-1.1-.9-2-2-2zM9 17H7v-7h2v7zm4 0h-2V7h2v10zm4 0h-2v-4h2v4z\"/>\n",
              "    </g>\n",
              "</svg>\n",
              "  </button>\n",
              "\n",
              "<style>\n",
              "  .colab-df-quickchart {\n",
              "      --bg-color: #E8F0FE;\n",
              "      --fill-color: #1967D2;\n",
              "      --hover-bg-color: #E2EBFA;\n",
              "      --hover-fill-color: #174EA6;\n",
              "      --disabled-fill-color: #AAA;\n",
              "      --disabled-bg-color: #DDD;\n",
              "  }\n",
              "\n",
              "  [theme=dark] .colab-df-quickchart {\n",
              "      --bg-color: #3B4455;\n",
              "      --fill-color: #D2E3FC;\n",
              "      --hover-bg-color: #434B5C;\n",
              "      --hover-fill-color: #FFFFFF;\n",
              "      --disabled-bg-color: #3B4455;\n",
              "      --disabled-fill-color: #666;\n",
              "  }\n",
              "\n",
              "  .colab-df-quickchart {\n",
              "    background-color: var(--bg-color);\n",
              "    border: none;\n",
              "    border-radius: 50%;\n",
              "    cursor: pointer;\n",
              "    display: none;\n",
              "    fill: var(--fill-color);\n",
              "    height: 32px;\n",
              "    padding: 0;\n",
              "    width: 32px;\n",
              "  }\n",
              "\n",
              "  .colab-df-quickchart:hover {\n",
              "    background-color: var(--hover-bg-color);\n",
              "    box-shadow: 0 1px 2px rgba(60, 64, 67, 0.3), 0 1px 3px 1px rgba(60, 64, 67, 0.15);\n",
              "    fill: var(--button-hover-fill-color);\n",
              "  }\n",
              "\n",
              "  .colab-df-quickchart-complete:disabled,\n",
              "  .colab-df-quickchart-complete:disabled:hover {\n",
              "    background-color: var(--disabled-bg-color);\n",
              "    fill: var(--disabled-fill-color);\n",
              "    box-shadow: none;\n",
              "  }\n",
              "\n",
              "  .colab-df-spinner {\n",
              "    border: 2px solid var(--fill-color);\n",
              "    border-color: transparent;\n",
              "    border-bottom-color: var(--fill-color);\n",
              "    animation:\n",
              "      spin 1s steps(1) infinite;\n",
              "  }\n",
              "\n",
              "  @keyframes spin {\n",
              "    0% {\n",
              "      border-color: transparent;\n",
              "      border-bottom-color: var(--fill-color);\n",
              "      border-left-color: var(--fill-color);\n",
              "    }\n",
              "    20% {\n",
              "      border-color: transparent;\n",
              "      border-left-color: var(--fill-color);\n",
              "      border-top-color: var(--fill-color);\n",
              "    }\n",
              "    30% {\n",
              "      border-color: transparent;\n",
              "      border-left-color: var(--fill-color);\n",
              "      border-top-color: var(--fill-color);\n",
              "      border-right-color: var(--fill-color);\n",
              "    }\n",
              "    40% {\n",
              "      border-color: transparent;\n",
              "      border-right-color: var(--fill-color);\n",
              "      border-top-color: var(--fill-color);\n",
              "    }\n",
              "    60% {\n",
              "      border-color: transparent;\n",
              "      border-right-color: var(--fill-color);\n",
              "    }\n",
              "    80% {\n",
              "      border-color: transparent;\n",
              "      border-right-color: var(--fill-color);\n",
              "      border-bottom-color: var(--fill-color);\n",
              "    }\n",
              "    90% {\n",
              "      border-color: transparent;\n",
              "      border-bottom-color: var(--fill-color);\n",
              "    }\n",
              "  }\n",
              "</style>\n",
              "\n",
              "  <script>\n",
              "    async function quickchart(key) {\n",
              "      const quickchartButtonEl =\n",
              "        document.querySelector('#' + key + ' button');\n",
              "      quickchartButtonEl.disabled = true;  // To prevent multiple clicks.\n",
              "      quickchartButtonEl.classList.add('colab-df-spinner');\n",
              "      try {\n",
              "        const charts = await google.colab.kernel.invokeFunction(\n",
              "            'suggestCharts', [key], {});\n",
              "      } catch (error) {\n",
              "        console.error('Error during call to suggestCharts:', error);\n",
              "      }\n",
              "      quickchartButtonEl.classList.remove('colab-df-spinner');\n",
              "      quickchartButtonEl.classList.add('colab-df-quickchart-complete');\n",
              "    }\n",
              "    (() => {\n",
              "      let quickchartButtonEl =\n",
              "        document.querySelector('#df-a0c6f068-460a-4179-9356-95f830bc124b button');\n",
              "      quickchartButtonEl.style.display =\n",
              "        google.colab.kernel.accessAllowed ? 'block' : 'none';\n",
              "    })();\n",
              "  </script>\n",
              "</div>\n",
              "    </div>\n",
              "  </div>\n"
            ]
          },
          "metadata": {},
          "execution_count": 144
        }
      ]
    },
    {
      "cell_type": "markdown",
      "source": [
        "##### estandarizacion de los datos"
      ],
      "metadata": {
        "id": "PgdqG6g7W2Vj"
      }
    },
    {
      "cell_type": "code",
      "source": [
        "df['Textos_espanol'] = df['Textos_espanol'].str.lower()"
      ],
      "metadata": {
        "id": "Tp73WV3CFfhT"
      },
      "execution_count": 145,
      "outputs": []
    },
    {
      "cell_type": "code",
      "source": [
        "def limpiar_texto(texto):\n",
        "    # Normaliza a la forma no acentuada\n",
        "    texto = unicodedata.normalize('NFKD', texto)\n",
        "    # Utiliza una expresión regular para eliminar caracteres no alfabéticos estándar\n",
        "    return ''.join([c for c in texto if not unicodedata.combining(c)])\n",
        "\n",
        "# Aplica la función de limpieza a la columna \"Textos_espanol\"\n",
        "df_prediction['Textos_espanol'] = df_prediction['Textos_espanol'].apply(limpiar_texto)"
      ],
      "metadata": {
        "id": "P8GmMHAiFoAf"
      },
      "execution_count": 146,
      "outputs": []
    },
    {
      "cell_type": "code",
      "source": [
        "# Aplicar eliminación de stop words a la columna 'Textos_espanol'\n",
        "df_prediction['Textos_espanol'] = df_prediction['Textos_espanol'].apply(lambda x: ' '.join([word for word in x.split() if word not in stop_words]))\n"
      ],
      "metadata": {
        "id": "NTJnedWtFtCY"
      },
      "execution_count": 147,
      "outputs": []
    },
    {
      "cell_type": "code",
      "source": [
        "stemmer = SnowballStemmer(\"spanish\")\n",
        "\n",
        "#Funcion encargada de la derivación de un texto\n",
        "def derivar_texto(texto):\n",
        "    return ' '.join([stemmer.stem(word) for word in texto.split()])\n",
        "\n",
        "    df_prediction['Textos_espanol'] = df_prediction['Textos_espanol'].apply(derivar_texto)"
      ],
      "metadata": {
        "id": "yJXFVnhjGD7U"
      },
      "execution_count": 148,
      "outputs": []
    },
    {
      "cell_type": "markdown",
      "source": [
        "##### vectorizacion de los datos sin etiquetar.\n",
        "al vectorizar los datos se obtuvo que la cantidad de features presentes en estos datos era de 12701, asi se requierio una modificacion en la vectorizacion de los datos de entrenamiento de los algoritmos para que concuerden la cantidad de features a evaluar."
      ],
      "metadata": {
        "id": "j6WF7vb4XX9P"
      }
    },
    {
      "cell_type": "code",
      "source": [
        "Prediction_tfidf = tfidf.fit_transform(df_prediction['Textos_espanol'])"
      ],
      "metadata": {
        "colab": {
          "base_uri": "https://localhost:8080/"
        },
        "id": "UrE54m7SToYm",
        "outputId": "8a8b1a18-e123-4d24-8e98-9e3e6588d78c"
      },
      "execution_count": 149,
      "outputs": [
        {
          "output_type": "stream",
          "name": "stderr",
          "text": [
            "/usr/local/lib/python3.10/dist-packages/sklearn/feature_extraction/text.py:528: UserWarning: The parameter 'token_pattern' will not be used since 'tokenizer' is not None'\n",
            "  warnings.warn(\n"
          ]
        }
      ]
    },
    {
      "cell_type": "markdown",
      "source": [
        "##### prediccion de los datos."
      ],
      "metadata": {
        "id": "jNOV6bkxXvFI"
      }
    },
    {
      "cell_type": "code",
      "source": [
        "df_prediction[\"sdg\"]= pipeline_loaded.predict(Prediction_tfidf)"
      ],
      "metadata": {
        "id": "Aa0V55_lGPUO"
      },
      "execution_count": 150,
      "outputs": []
    },
    {
      "cell_type": "code",
      "source": [
        "df_prediction.sample(3)"
      ],
      "metadata": {
        "colab": {
          "base_uri": "https://localhost:8080/",
          "height": 352
        },
        "id": "qKteqSQgVpby",
        "outputId": "5b53360f-e65b-4e70-c675-3d67cd91ee4f"
      },
      "execution_count": 151,
      "outputs": [
        {
          "output_type": "execute_result",
          "data": {
            "text/plain": [
              "                                                                                                                                                                                                                                                                                                                                                                                                                                                                                                                                                                                                                                                                                                                                                                                                                            Textos_espanol  \\\n",
              "922  Como actores estatales, EMSP estan acogidas doctrinas tradicionales derecho internacional dominadas estados. Sin embargo, derecho internacional si mismo logrado seguir ritmo evolucion actores estatales, aplican fuertes nociones soberania Westfalia. Se argumenta insuficiencias estructurales interponen camino regulacion internacional EMSP, lugar defectos derechos humanos internacionales derecho humanitario per se. Al analizar comprension responsabilidad legal, problemas estructurales pasan primer plano, argumenta que, lugar intentar resolver disputa esencialmente ideologica funciones inherentes estado, regimenes regulatorios deberian centrarse obligaciones positivas EMSP. , interacciones ellos. Aplicando resultados analisis, evaluan regimenes regulatorios actuales propuestos revelan deficiencias.   \n",
              "268                                                                                                                                                                                                                                                                                                                                    Este proceso contribuido crecimiento regiones megaurbanas (Jones Douglass 2008) gran demanda agua recursos naturales. Estos cambios intensificado demanda agua tambien sido altamente contaminantes agua. Todos desarrollos afectan sistemas agua traves desvio agua, trayendo nuevos usos agua, creando cambios ecologicos permitiendo extraccion mas rapida recursos naturales madera. Tambien pueden desplazar gran numero habitantes y, casos, asentamientos larga historia nucleos culturales.   \n",
              "537                                                                                                                                                                                                                                                                                                                                                                                 Con respecto particular asentamientos tierras agricolas tierras bajas norte pais, inundaciones ocurrieron mayor frecuencia ultimos anos (casi anualmente) causaron danos graves. Sin embargo, mayoria represas mal disenadas ahora, razones seguridad, operan mitad capacidad, limita utilidad prevencion inundaciones. A pesar extraccion ilegal grava disminuyo 20 % 2000 menos 5 % 2011, impacto aun afecta lechos rios infraestructura actualidad.   \n",
              "\n",
              "     sdg  \n",
              "922   16  \n",
              "268    7  \n",
              "537    7  "
            ],
            "text/html": [
              "\n",
              "  <div id=\"df-cd9c7c57-7d47-4e4e-a8ab-b775986e8fc4\" class=\"colab-df-container\">\n",
              "    <div>\n",
              "<style scoped>\n",
              "    .dataframe tbody tr th:only-of-type {\n",
              "        vertical-align: middle;\n",
              "    }\n",
              "\n",
              "    .dataframe tbody tr th {\n",
              "        vertical-align: top;\n",
              "    }\n",
              "\n",
              "    .dataframe thead th {\n",
              "        text-align: right;\n",
              "    }\n",
              "</style>\n",
              "<table border=\"1\" class=\"dataframe\">\n",
              "  <thead>\n",
              "    <tr style=\"text-align: right;\">\n",
              "      <th></th>\n",
              "      <th>Textos_espanol</th>\n",
              "      <th>sdg</th>\n",
              "    </tr>\n",
              "  </thead>\n",
              "  <tbody>\n",
              "    <tr>\n",
              "      <th>922</th>\n",
              "      <td>Como actores estatales, EMSP estan acogidas doctrinas tradicionales derecho internacional dominadas estados. Sin embargo, derecho internacional si mismo logrado seguir ritmo evolucion actores estatales, aplican fuertes nociones soberania Westfalia. Se argumenta insuficiencias estructurales interponen camino regulacion internacional EMSP, lugar defectos derechos humanos internacionales derecho humanitario per se. Al analizar comprension responsabilidad legal, problemas estructurales pasan primer plano, argumenta que, lugar intentar resolver disputa esencialmente ideologica funciones inherentes estado, regimenes regulatorios deberian centrarse obligaciones positivas EMSP. , interacciones ellos. Aplicando resultados analisis, evaluan regimenes regulatorios actuales propuestos revelan deficiencias.</td>\n",
              "      <td>16</td>\n",
              "    </tr>\n",
              "    <tr>\n",
              "      <th>268</th>\n",
              "      <td>Este proceso contribuido crecimiento regiones megaurbanas (Jones Douglass 2008) gran demanda agua recursos naturales. Estos cambios intensificado demanda agua tambien sido altamente contaminantes agua. Todos desarrollos afectan sistemas agua traves desvio agua, trayendo nuevos usos agua, creando cambios ecologicos permitiendo extraccion mas rapida recursos naturales madera. Tambien pueden desplazar gran numero habitantes y, casos, asentamientos larga historia nucleos culturales.</td>\n",
              "      <td>7</td>\n",
              "    </tr>\n",
              "    <tr>\n",
              "      <th>537</th>\n",
              "      <td>Con respecto particular asentamientos tierras agricolas tierras bajas norte pais, inundaciones ocurrieron mayor frecuencia ultimos anos (casi anualmente) causaron danos graves. Sin embargo, mayoria represas mal disenadas ahora, razones seguridad, operan mitad capacidad, limita utilidad prevencion inundaciones. A pesar extraccion ilegal grava disminuyo 20 % 2000 menos 5 % 2011, impacto aun afecta lechos rios infraestructura actualidad.</td>\n",
              "      <td>7</td>\n",
              "    </tr>\n",
              "  </tbody>\n",
              "</table>\n",
              "</div>\n",
              "    <div class=\"colab-df-buttons\">\n",
              "\n",
              "  <div class=\"colab-df-container\">\n",
              "    <button class=\"colab-df-convert\" onclick=\"convertToInteractive('df-cd9c7c57-7d47-4e4e-a8ab-b775986e8fc4')\"\n",
              "            title=\"Convert this dataframe to an interactive table.\"\n",
              "            style=\"display:none;\">\n",
              "\n",
              "  <svg xmlns=\"http://www.w3.org/2000/svg\" height=\"24px\" viewBox=\"0 -960 960 960\">\n",
              "    <path d=\"M120-120v-720h720v720H120Zm60-500h600v-160H180v160Zm220 220h160v-160H400v160Zm0 220h160v-160H400v160ZM180-400h160v-160H180v160Zm440 0h160v-160H620v160ZM180-180h160v-160H180v160Zm440 0h160v-160H620v160Z\"/>\n",
              "  </svg>\n",
              "    </button>\n",
              "\n",
              "  <style>\n",
              "    .colab-df-container {\n",
              "      display:flex;\n",
              "      gap: 12px;\n",
              "    }\n",
              "\n",
              "    .colab-df-convert {\n",
              "      background-color: #E8F0FE;\n",
              "      border: none;\n",
              "      border-radius: 50%;\n",
              "      cursor: pointer;\n",
              "      display: none;\n",
              "      fill: #1967D2;\n",
              "      height: 32px;\n",
              "      padding: 0 0 0 0;\n",
              "      width: 32px;\n",
              "    }\n",
              "\n",
              "    .colab-df-convert:hover {\n",
              "      background-color: #E2EBFA;\n",
              "      box-shadow: 0px 1px 2px rgba(60, 64, 67, 0.3), 0px 1px 3px 1px rgba(60, 64, 67, 0.15);\n",
              "      fill: #174EA6;\n",
              "    }\n",
              "\n",
              "    .colab-df-buttons div {\n",
              "      margin-bottom: 4px;\n",
              "    }\n",
              "\n",
              "    [theme=dark] .colab-df-convert {\n",
              "      background-color: #3B4455;\n",
              "      fill: #D2E3FC;\n",
              "    }\n",
              "\n",
              "    [theme=dark] .colab-df-convert:hover {\n",
              "      background-color: #434B5C;\n",
              "      box-shadow: 0px 1px 3px 1px rgba(0, 0, 0, 0.15);\n",
              "      filter: drop-shadow(0px 1px 2px rgba(0, 0, 0, 0.3));\n",
              "      fill: #FFFFFF;\n",
              "    }\n",
              "  </style>\n",
              "\n",
              "    <script>\n",
              "      const buttonEl =\n",
              "        document.querySelector('#df-cd9c7c57-7d47-4e4e-a8ab-b775986e8fc4 button.colab-df-convert');\n",
              "      buttonEl.style.display =\n",
              "        google.colab.kernel.accessAllowed ? 'block' : 'none';\n",
              "\n",
              "      async function convertToInteractive(key) {\n",
              "        const element = document.querySelector('#df-cd9c7c57-7d47-4e4e-a8ab-b775986e8fc4');\n",
              "        const dataTable =\n",
              "          await google.colab.kernel.invokeFunction('convertToInteractive',\n",
              "                                                    [key], {});\n",
              "        if (!dataTable) return;\n",
              "\n",
              "        const docLinkHtml = 'Like what you see? Visit the ' +\n",
              "          '<a target=\"_blank\" href=https://colab.research.google.com/notebooks/data_table.ipynb>data table notebook</a>'\n",
              "          + ' to learn more about interactive tables.';\n",
              "        element.innerHTML = '';\n",
              "        dataTable['output_type'] = 'display_data';\n",
              "        await google.colab.output.renderOutput(dataTable, element);\n",
              "        const docLink = document.createElement('div');\n",
              "        docLink.innerHTML = docLinkHtml;\n",
              "        element.appendChild(docLink);\n",
              "      }\n",
              "    </script>\n",
              "  </div>\n",
              "\n",
              "\n",
              "<div id=\"df-835e1de4-4cbc-4f3f-9d21-bacc10029eab\">\n",
              "  <button class=\"colab-df-quickchart\" onclick=\"quickchart('df-835e1de4-4cbc-4f3f-9d21-bacc10029eab')\"\n",
              "            title=\"Suggest charts.\"\n",
              "            style=\"display:none;\">\n",
              "\n",
              "<svg xmlns=\"http://www.w3.org/2000/svg\" height=\"24px\"viewBox=\"0 0 24 24\"\n",
              "     width=\"24px\">\n",
              "    <g>\n",
              "        <path d=\"M19 3H5c-1.1 0-2 .9-2 2v14c0 1.1.9 2 2 2h14c1.1 0 2-.9 2-2V5c0-1.1-.9-2-2-2zM9 17H7v-7h2v7zm4 0h-2V7h2v10zm4 0h-2v-4h2v4z\"/>\n",
              "    </g>\n",
              "</svg>\n",
              "  </button>\n",
              "\n",
              "<style>\n",
              "  .colab-df-quickchart {\n",
              "      --bg-color: #E8F0FE;\n",
              "      --fill-color: #1967D2;\n",
              "      --hover-bg-color: #E2EBFA;\n",
              "      --hover-fill-color: #174EA6;\n",
              "      --disabled-fill-color: #AAA;\n",
              "      --disabled-bg-color: #DDD;\n",
              "  }\n",
              "\n",
              "  [theme=dark] .colab-df-quickchart {\n",
              "      --bg-color: #3B4455;\n",
              "      --fill-color: #D2E3FC;\n",
              "      --hover-bg-color: #434B5C;\n",
              "      --hover-fill-color: #FFFFFF;\n",
              "      --disabled-bg-color: #3B4455;\n",
              "      --disabled-fill-color: #666;\n",
              "  }\n",
              "\n",
              "  .colab-df-quickchart {\n",
              "    background-color: var(--bg-color);\n",
              "    border: none;\n",
              "    border-radius: 50%;\n",
              "    cursor: pointer;\n",
              "    display: none;\n",
              "    fill: var(--fill-color);\n",
              "    height: 32px;\n",
              "    padding: 0;\n",
              "    width: 32px;\n",
              "  }\n",
              "\n",
              "  .colab-df-quickchart:hover {\n",
              "    background-color: var(--hover-bg-color);\n",
              "    box-shadow: 0 1px 2px rgba(60, 64, 67, 0.3), 0 1px 3px 1px rgba(60, 64, 67, 0.15);\n",
              "    fill: var(--button-hover-fill-color);\n",
              "  }\n",
              "\n",
              "  .colab-df-quickchart-complete:disabled,\n",
              "  .colab-df-quickchart-complete:disabled:hover {\n",
              "    background-color: var(--disabled-bg-color);\n",
              "    fill: var(--disabled-fill-color);\n",
              "    box-shadow: none;\n",
              "  }\n",
              "\n",
              "  .colab-df-spinner {\n",
              "    border: 2px solid var(--fill-color);\n",
              "    border-color: transparent;\n",
              "    border-bottom-color: var(--fill-color);\n",
              "    animation:\n",
              "      spin 1s steps(1) infinite;\n",
              "  }\n",
              "\n",
              "  @keyframes spin {\n",
              "    0% {\n",
              "      border-color: transparent;\n",
              "      border-bottom-color: var(--fill-color);\n",
              "      border-left-color: var(--fill-color);\n",
              "    }\n",
              "    20% {\n",
              "      border-color: transparent;\n",
              "      border-left-color: var(--fill-color);\n",
              "      border-top-color: var(--fill-color);\n",
              "    }\n",
              "    30% {\n",
              "      border-color: transparent;\n",
              "      border-left-color: var(--fill-color);\n",
              "      border-top-color: var(--fill-color);\n",
              "      border-right-color: var(--fill-color);\n",
              "    }\n",
              "    40% {\n",
              "      border-color: transparent;\n",
              "      border-right-color: var(--fill-color);\n",
              "      border-top-color: var(--fill-color);\n",
              "    }\n",
              "    60% {\n",
              "      border-color: transparent;\n",
              "      border-right-color: var(--fill-color);\n",
              "    }\n",
              "    80% {\n",
              "      border-color: transparent;\n",
              "      border-right-color: var(--fill-color);\n",
              "      border-bottom-color: var(--fill-color);\n",
              "    }\n",
              "    90% {\n",
              "      border-color: transparent;\n",
              "      border-bottom-color: var(--fill-color);\n",
              "    }\n",
              "  }\n",
              "</style>\n",
              "\n",
              "  <script>\n",
              "    async function quickchart(key) {\n",
              "      const quickchartButtonEl =\n",
              "        document.querySelector('#' + key + ' button');\n",
              "      quickchartButtonEl.disabled = true;  // To prevent multiple clicks.\n",
              "      quickchartButtonEl.classList.add('colab-df-spinner');\n",
              "      try {\n",
              "        const charts = await google.colab.kernel.invokeFunction(\n",
              "            'suggestCharts', [key], {});\n",
              "      } catch (error) {\n",
              "        console.error('Error during call to suggestCharts:', error);\n",
              "      }\n",
              "      quickchartButtonEl.classList.remove('colab-df-spinner');\n",
              "      quickchartButtonEl.classList.add('colab-df-quickchart-complete');\n",
              "    }\n",
              "    (() => {\n",
              "      let quickchartButtonEl =\n",
              "        document.querySelector('#df-835e1de4-4cbc-4f3f-9d21-bacc10029eab button');\n",
              "      quickchartButtonEl.style.display =\n",
              "        google.colab.kernel.accessAllowed ? 'block' : 'none';\n",
              "    })();\n",
              "  </script>\n",
              "</div>\n",
              "    </div>\n",
              "  </div>\n"
            ]
          },
          "metadata": {},
          "execution_count": 151
        }
      ]
    },
    {
      "cell_type": "code",
      "source": [
        "df_prediction[\"sdg\"].value_counts()"
      ],
      "metadata": {
        "colab": {
          "base_uri": "https://localhost:8080/"
        },
        "id": "7hX0FXfqVuTc",
        "outputId": "a421a347-a4ca-46c8-fdc7-9bacaa3b6232"
      },
      "execution_count": 152,
      "outputs": [
        {
          "output_type": "execute_result",
          "data": {
            "text/plain": [
              "16    534\n",
              "7     366\n",
              "6      80\n",
              "Name: sdg, dtype: int64"
            ]
          },
          "metadata": {},
          "execution_count": 152
        }
      ]
    },
    {
      "cell_type": "markdown",
      "source": [
        "### exportacion de la prediccion de los datos\n"
      ],
      "metadata": {
        "id": "4yLUdaDwXznl"
      }
    },
    {
      "cell_type": "code",
      "source": [
        "ruta_archivo_csv = \"predicciones.csv\"\n",
        "df_prediction.to_csv(ruta_archivo_csv, index=False)"
      ],
      "metadata": {
        "id": "19zhuQlQWaiL"
      },
      "execution_count": 153,
      "outputs": []
    }
  ]
}